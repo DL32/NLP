{
 "cells": [
  {
   "cell_type": "markdown",
   "metadata": {
    "nbpresent": {
     "id": "ad90604f-afeb-4baa-b940-c3a1f3de8891"
    },
    "slideshow": {
     "slide_type": "slide"
    }
   },
   "source": [
    "# The Multilayer Perceptron"
   ]
  },
  {
   "cell_type": "code",
   "execution_count": 1,
   "metadata": {
    "ExecuteTime": {
     "end_time": "2021-04-29T09:42:46.485562Z",
     "start_time": "2021-04-29T09:42:33.289669Z"
    },
    "slideshow": {
     "slide_type": "skip"
    }
   },
   "outputs": [],
   "source": [
    "%matplotlib inline\n",
    "import numpy as np\n",
    "import matplotlib.pyplot as plt\n",
    "import seaborn as sbs\n",
    "import pandas as pd\n",
    "from sklearn.metrics import accuracy_score\n",
    "sbs.set_context('notebook')"
   ]
  },
  {
   "cell_type": "code",
   "execution_count": 2,
   "metadata": {
    "ExecuteTime": {
     "end_time": "2021-04-29T09:45:16.607447Z",
     "start_time": "2021-04-29T09:42:46.485562Z"
    }
   },
   "outputs": [
    {
     "name": "stdout",
     "output_type": "stream",
     "text": [
      "Collecting tensorflow\n",
      "  Using cached tensorflow-2.4.1-cp38-cp38-win_amd64.whl (370.7 MB)\n",
      "Requirement already satisfied: protobuf>=3.9.2 in c:\\users\\tiziano\\anaconda3\\lib\\site-packages (from tensorflow) (3.14.0)\n",
      "Requirement already satisfied: numpy~=1.19.2 in c:\\users\\tiziano\\anaconda3\\lib\\site-packages (from tensorflow) (1.19.5)\n",
      "Collecting opt-einsum~=3.3.0\n",
      "  Using cached opt_einsum-3.3.0-py3-none-any.whl (65 kB)\n",
      "Requirement already satisfied: wheel~=0.35 in c:\\users\\tiziano\\anaconda3\\lib\\site-packages (from tensorflow) (0.36.2)\n",
      "Requirement already satisfied: astunparse~=1.6.3 in c:\\users\\tiziano\\anaconda3\\lib\\site-packages (from tensorflow) (1.6.3)\n",
      "Processing c:\\users\\tiziano\\appdata\\local\\pip\\cache\\wheels\\a0\\16\\9c\\5473df82468f958445479c59e784896fa24f4a5fc024b0f501\\termcolor-1.1.0-py3-none-any.whl\n",
      "Collecting keras-preprocessing~=1.1.2\n",
      "  Using cached Keras_Preprocessing-1.1.2-py2.py3-none-any.whl (42 kB)\n",
      "Collecting gast==0.3.3\n",
      "  Using cached gast-0.3.3-py2.py3-none-any.whl (9.7 kB)\n",
      "Collecting tensorflow-estimator<2.5.0,>=2.4.0\n",
      "  Using cached tensorflow_estimator-2.4.0-py2.py3-none-any.whl (462 kB)\n",
      "Requirement already satisfied: grpcio~=1.32.0 in c:\\users\\tiziano\\anaconda3\\lib\\site-packages (from tensorflow) (1.32.0)\n",
      "Requirement already satisfied: h5py~=2.10.0 in c:\\users\\tiziano\\anaconda3\\lib\\site-packages (from tensorflow) (2.10.0)\n",
      "Requirement already satisfied: six~=1.15.0 in c:\\users\\tiziano\\anaconda3\\lib\\site-packages (from tensorflow) (1.15.0)\n",
      "Collecting google-pasta~=0.2\n",
      "  Using cached google_pasta-0.2.0-py3-none-any.whl (57 kB)\n",
      "Collecting flatbuffers~=1.12.0\n",
      "  Using cached flatbuffers-1.12-py2.py3-none-any.whl (15 kB)\n",
      "Collecting absl-py~=0.10\n",
      "  Using cached absl_py-0.12.0-py3-none-any.whl (129 kB)\n",
      "Processing c:\\users\\tiziano\\appdata\\local\\pip\\cache\\wheels\\5f\\fd\\9e\\b6cf5890494cb8ef0b5eaff72e5d55a70fb56316007d6dfe73\\wrapt-1.12.1-py3-none-any.whl\n",
      "Requirement already satisfied: typing-extensions~=3.7.4 in c:\\users\\tiziano\\anaconda3\\lib\\site-packages (from tensorflow) (3.7.4.2)\n",
      "Collecting tensorboard~=2.4\n",
      "  Using cached tensorboard-2.5.0-py3-none-any.whl (6.0 MB)\n",
      "Collecting tensorboard-data-server<0.7.0,>=0.6.0\n",
      "  Using cached tensorboard_data_server-0.6.0-py3-none-any.whl (2.3 kB)\n",
      "Requirement already satisfied: google-auth<2,>=1.6.3 in c:\\users\\tiziano\\anaconda3\\lib\\site-packages (from tensorboard~=2.4->tensorflow) (1.24.0)\n",
      "Requirement already satisfied: werkzeug>=0.11.15 in c:\\users\\tiziano\\anaconda3\\lib\\site-packages (from tensorboard~=2.4->tensorflow) (1.0.1)\n",
      "Requirement already satisfied: requests<3,>=2.21.0 in c:\\users\\tiziano\\anaconda3\\lib\\site-packages (from tensorboard~=2.4->tensorflow) (2.24.0)\n",
      "Collecting tensorboard-plugin-wit>=1.6.0\n",
      "  Using cached tensorboard_plugin_wit-1.8.0-py3-none-any.whl (781 kB)\n",
      "Collecting markdown>=2.6.8\n",
      "  Using cached Markdown-3.3.4-py3-none-any.whl (97 kB)\n",
      "Requirement already satisfied: google-auth-oauthlib<0.5,>=0.4.1 in c:\\users\\tiziano\\anaconda3\\lib\\site-packages (from tensorboard~=2.4->tensorflow) (0.4.3)\n",
      "Requirement already satisfied: setuptools>=41.0.0 in c:\\users\\tiziano\\anaconda3\\lib\\site-packages (from tensorboard~=2.4->tensorflow) (49.2.0.post20200714)\n",
      "Requirement already satisfied: cachetools<5.0,>=2.0.0 in c:\\users\\tiziano\\anaconda3\\lib\\site-packages (from google-auth<2,>=1.6.3->tensorboard~=2.4->tensorflow) (4.2.1)\n",
      "Requirement already satisfied: rsa<5,>=3.1.4; python_version >= \"3.6\" in c:\\users\\tiziano\\anaconda3\\lib\\site-packages (from google-auth<2,>=1.6.3->tensorboard~=2.4->tensorflow) (4.7)\n",
      "Note: you may need to restart the kernel to use updated packages.Requirement already satisfied: pyasn1-modules>=0.2.1 in c:\\users\\tiziano\\anaconda3\\lib\\site-packages (from google-auth<2,>=1.6.3->tensorboard~=2.4->tensorflow) (0.2.7)\n",
      "Requirement already satisfied: urllib3!=1.25.0,!=1.25.1,<1.26,>=1.21.1 in c:\\users\\tiziano\\anaconda3\\lib\\site-packages (from requests<3,>=2.21.0->tensorboard~=2.4->tensorflow) (1.25.9)\n",
      "Requirement already satisfied: chardet<4,>=3.0.2 in c:\\users\\tiziano\\anaconda3\\lib\\site-packages (from requests<3,>=2.21.0->tensorboard~=2.4->tensorflow) (3.0.4)\n",
      "Requirement already satisfied: certifi>=2017.4.17 in c:\\users\\tiziano\\anaconda3\\lib\\site-packages (from requests<3,>=2.21.0->tensorboard~=2.4->tensorflow) (2020.6.20)\n",
      "Requirement already satisfied: idna<3,>=2.5 in c:\\users\\tiziano\\anaconda3\\lib\\site-packages (from requests<3,>=2.21.0->tensorboard~=2.4->tensorflow) (2.10)\n",
      "Requirement already satisfied: requests-oauthlib>=0.7.0 in c:\\users\\tiziano\\anaconda3\\lib\\site-packages (from google-auth-oauthlib<0.5,>=0.4.1->tensorboard~=2.4->tensorflow) (1.3.0)\n",
      "Requirement already satisfied: pyasn1>=0.1.3 in c:\\users\\tiziano\\anaconda3\\lib\\site-packages (from rsa<5,>=3.1.4; python_version >= \"3.6\"->google-auth<2,>=1.6.3->tensorboard~=2.4->tensorflow) (0.4.8)\n",
      "Requirement already satisfied: oauthlib>=3.0.0 in c:\\users\\tiziano\\anaconda3\\lib\\site-packages (from requests-oauthlib>=0.7.0->google-auth-oauthlib<0.5,>=0.4.1->tensorboard~=2.4->tensorflow) (3.0.1)\n",
      "Installing collected packages: opt-einsum, termcolor, keras-preprocessing, gast, tensorflow-estimator, google-pasta, flatbuffers, absl-py, wrapt, tensorboard-data-server, tensorboard-plugin-wit, markdown, tensorboard, tensorflow\n",
      "  Attempting uninstall: wrapt\n",
      "    Found existing installation: wrapt 1.11.2\n",
      "    Uninstalling wrapt-1.11.2:\n",
      "      Successfully uninstalled wrapt-1.11.2\n",
      "Successfully installed absl-py-0.12.0 flatbuffers-1.12 gast-0.3.3 google-pasta-0.2.0 keras-preprocessing-1.1.2 markdown-3.3.4 opt-einsum-3.3.0 tensorboard-2.5.0 tensorboard-data-server-0.6.0 tensorboard-plugin-wit-1.8.0 tensorflow-2.4.1 tensorflow-estimator-2.4.0 termcolor-1.1.0 wrapt-1.12.1\n",
      "\n"
     ]
    }
   ],
   "source": [
    "pip install tensorflow"
   ]
  },
  {
   "cell_type": "markdown",
   "metadata": {
    "nbpresent": {
     "id": "67ca55d4-28b9-410e-9921-08d943aa3151"
    },
    "slideshow": {
     "slide_type": "subslide"
    }
   },
   "source": [
    "### Multilayer perceptron to the rescue!\n",
    "- Data that is distributed non-linearly (e.g. XOR) cannot be learned by perceptron\n",
    "- At least not without tedious feature engineering\n",
    "\n",
    "**Stacking several perceptrons increases expressive power!**\n",
    "\n",
    "- learning intermediate/partial representations at intermediate layers\n",
    "\n",
    "**Let's see how it works in `keras`**\n"
   ]
  },
  {
   "cell_type": "code",
   "execution_count": 3,
   "metadata": {
    "ExecuteTime": {
     "end_time": "2021-04-29T09:49:46.339797Z",
     "start_time": "2021-04-29T09:49:46.321589Z"
    }
   },
   "outputs": [],
   "source": [
    "def gaussian_data(num, epsilon=1):\n",
    "    '''\n",
    "    generates a data set from two overlapping Gaussian point clouds\n",
    "    '''\n",
    "    x1_p1 = np.random.normal(1 + epsilon, size=num//2)\n",
    "    x2_p1 = np.random.normal(1, size=num//2)\n",
    "\n",
    "    x1_p2 = np.random.normal(-(1 + epsilon), size=num//2)\n",
    "    x2_p2 = np.random.normal(-(1 + epsilon), size=num//2)\n",
    "\n",
    "    x1 = np.concatenate([x1_p1, x1_p2])\n",
    "    x2 = np.concatenate([x2_p1, x2_p2])\n",
    "\n",
    "    labels = np.zeros((num, 2))\n",
    "    labels[:num//2, 0] = 1\n",
    "    labels[num//2:, 1] = 1\n",
    "    return x1, x2, labels\n",
    "\n",
    "def XOR_sample(sample_size, ratio=0.5, x1_p1_mean=25, x1_p2_mean=50, x2_p1_mean=5, x2_p2_mean=2, epsilon = 0.1):\n",
    "    size1 = int(sample_size * ratio)\n",
    "    size2 = sample_size - size1\n",
    "    \n",
    "    x1 = np.random.normal(loc=x1_p1_mean, size=size1//2)\n",
    "    x1 = np.hstack((x1, np.random.normal(loc=-x1_p1_mean, size=size1//2)))   \n",
    "    x1 = np.hstack((x1, np.random.normal(loc=x1_p2_mean, size=size2//2)))\n",
    "    x1 = np.hstack((x1, np.random.normal(loc=-x1_p2_mean, size=size2//2)))\n",
    "    \n",
    "    x2 = np.random.normal(loc=x2_p1_mean, size=size1//2)\n",
    "    x2 = np.hstack((x2, np.random.normal(loc=-x2_p1_mean, size=size1//2)))\n",
    "    x2 = np.hstack((x2, np.random.normal(loc=x2_p2_mean, size=size2//2)))\n",
    "    x2 = np.hstack((x2, np.random.normal(loc=-x2_p2_mean, size=size2//2)))\n",
    "    \n",
    "    labels = np.zeros((sample_size, 2))\n",
    "    labels[:sample_size//2, 0] = 1\n",
    "    labels[sample_size//2:, 1] = 1\n",
    "\n",
    "    return x1, x2, labels\n"
   ]
  },
  {
   "cell_type": "code",
   "execution_count": 4,
   "metadata": {
    "ExecuteTime": {
     "end_time": "2021-04-29T09:49:47.549807Z",
     "start_time": "2021-04-29T09:49:47.079170Z"
    }
   },
   "outputs": [
    {
     "data": {
      "image/png": "[encoded data removed]",
      "text/plain": [
       "<Figure size 432x288 with 1 Axes>"
      ]
     },
     "metadata": {
      "needs_background": "light"
     },
     "output_type": "display_data"
    }
   ],
   "source": [
    "# let's get some data\n",
    "num_samples = 5000\n",
    "half = num_samples//2\n",
    "a,b,y = XOR_sample(num_samples)\n",
    "\n",
    "X = np.vstack((a,b)).T\n",
    "\n",
    "pd.DataFrame({'x1': a, 'x2': b}).plot.scatter(x='x1', y='x2', c=['red']*half + ['blue']*half);"
   ]
  },
  {
   "cell_type": "code",
   "execution_count": 5,
   "metadata": {
    "ExecuteTime": {
     "end_time": "2021-04-29T09:50:25.307356Z",
     "start_time": "2021-04-29T09:49:48.366608Z"
    }
   },
   "outputs": [],
   "source": [
    "from keras.models import Model\n",
    "from keras.layers import Input, Dense\n",
    "\n",
    "# input: a sequence  of 2 integers\n",
    "main_input = Input(shape=(2,), name='main_input')\n",
    "\n",
    "# add the output layer\n",
    "output = Dense(2, activation='hard_sigmoid', name='output', kernel_initializer='glorot_uniform')(main_input)\n",
    "\n",
    "# f(X) = sigmoid(X*W + b)\n",
    "\n",
    "# the model is specified by connecting input and output\n",
    "perceptron_keras = Model(inputs=[main_input], outputs=[output])"
   ]
  },
  {
   "cell_type": "code",
   "execution_count": 6,
   "metadata": {
    "ExecuteTime": {
     "end_time": "2021-04-29T09:50:25.337484Z",
     "start_time": "2021-04-29T09:50:25.315430Z"
    }
   },
   "outputs": [
    {
     "name": "stdout",
     "output_type": "stream",
     "text": [
      "Model: \"model\"\n",
      "_________________________________________________________________\n",
      "Layer (type)                 Output Shape              Param #   \n",
      "=================================================================\n",
      "main_input (InputLayer)      [(None, 2)]               0         \n",
      "_________________________________________________________________\n",
      "output (Dense)               (None, 2)                 6         \n",
      "=================================================================\n",
      "Total params: 6\n",
      "Trainable params: 6\n",
      "Non-trainable params: 0\n",
      "_________________________________________________________________\n"
     ]
    }
   ],
   "source": [
    "perceptron_keras.summary()"
   ]
  },
  {
   "cell_type": "code",
   "execution_count": 7,
   "metadata": {
    "ExecuteTime": {
     "end_time": "2021-04-29T09:50:34.089083Z",
     "start_time": "2021-04-29T09:50:25.345538Z"
    }
   },
   "outputs": [
    {
     "name": "stdout",
     "output_type": "stream",
     "text": [
      "Epoch 1/15\n",
      "125/125 [==============================] - 4s 23ms/step - loss: 5.6739 - accuracy: 0.6301 - val_loss: 15.3371 - val_accuracy: 0.0000e+00\n",
      "Epoch 2/15\n",
      "125/125 [==============================] - 0s 2ms/step - loss: 5.8315 - accuracy: 0.6198 - val_loss: 15.3371 - val_accuracy: 0.0000e+00\n",
      "Epoch 3/15\n",
      "125/125 [==============================] - 0s 3ms/step - loss: 5.5190 - accuracy: 0.6402 - val_loss: 15.3371 - val_accuracy: 0.0000e+00\n",
      "Epoch 4/15\n",
      "125/125 [==============================] - 0s 4ms/step - loss: 5.6506 - accuracy: 0.6316 - val_loss: 15.3371 - val_accuracy: 0.0000e+00\n",
      "Epoch 5/15\n",
      "125/125 [==============================] - 0s 4ms/step - loss: 5.3852 - accuracy: 0.6489 - val_loss: 15.3371 - val_accuracy: 0.0000e+00\n",
      "Epoch 6/15\n",
      "125/125 [==============================] - 0s 3ms/step - loss: 5.9952 - accuracy: 0.6091 - val_loss: 15.3371 - val_accuracy: 0.0000e+00\n",
      "Epoch 7/15\n",
      "125/125 [==============================] - 0s 1ms/step - loss: 5.8388 - accuracy: 0.6193 - val_loss: 15.3371 - val_accuracy: 0.0000e+00\n",
      "Epoch 8/15\n",
      "125/125 [==============================] - 0s 2ms/step - loss: 5.7656 - accuracy: 0.6241 - val_loss: 15.3371 - val_accuracy: 0.0000e+00\n",
      "Epoch 9/15\n",
      "125/125 [==============================] - 0s 3ms/step - loss: 5.6130 - accuracy: 0.6340 - val_loss: 15.3371 - val_accuracy: 0.0000e+00\n",
      "Epoch 10/15\n",
      "125/125 [==============================] - 0s 3ms/step - loss: 5.9071 - accuracy: 0.6149 - val_loss: 15.3371 - val_accuracy: 0.0000e+00\n",
      "Epoch 11/15\n",
      "125/125 [==============================] - 0s 3ms/step - loss: 5.9253 - accuracy: 0.6137 - val_loss: 15.3371 - val_accuracy: 0.0000e+00\n",
      "Epoch 12/15\n",
      "125/125 [==============================] - 0s 3ms/step - loss: 5.8152 - accuracy: 0.6208 - val_loss: 15.3371 - val_accuracy: 0.0000e+00\n",
      "Epoch 13/15\n",
      "125/125 [==============================] - 0s 3ms/step - loss: 5.9140 - accuracy: 0.6144 - val_loss: 15.3371 - val_accuracy: 0.0000e+00\n",
      "Epoch 14/15\n",
      "125/125 [==============================] - 0s 3ms/step - loss: 6.0275 - accuracy: 0.6070 - val_loss: 15.3371 - val_accuracy: 0.0000e+00\n",
      "Epoch 15/15\n",
      "125/125 [==============================] - 0s 3ms/step - loss: 5.7275 - accuracy: 0.6266 - val_loss: 15.3371 - val_accuracy: 0.0000e+00\n"
     ]
    }
   ],
   "source": [
    "from sklearn.metrics import f1_score\n",
    "perceptron_keras.compile(loss='binary_crossentropy',\n",
    "              optimizer='sgd',\n",
    "              metrics=['accuracy'])\n",
    "\n",
    "history = perceptron_keras.fit(X, y,\n",
    "                    epochs=15,\n",
    "                    verbose=1,\n",
    "                    validation_split=0.2\n",
    "                )\n",
    "\n",
    "# loss, accuracy = perceptron_keras.evaluate(X, y,\n",
    "#                                            batch_size=20, \n",
    "#                                            verbose=1)\n",
    "# print('Test loss:', loss)\n",
    "# print('Test accuracy:', accuracy)"
   ]
  },
  {
   "cell_type": "code",
   "execution_count": 8,
   "metadata": {
    "ExecuteTime": {
     "end_time": "2021-04-29T09:50:34.511081Z",
     "start_time": "2021-04-29T09:50:34.090082Z"
    }
   },
   "outputs": [
    {
     "data": {
      "text/plain": [
       "<matplotlib.axes._subplots.AxesSubplot at 0x2901ab57640>"
      ]
     },
     "execution_count": 8,
     "metadata": {},
     "output_type": "execute_result"
    },
    {
     "data": {
      "image/png": "[encoded data removed]",
      "text/plain": [
       "<Figure size 432x288 with 1 Axes>"
      ]
     },
     "metadata": {
      "needs_background": "light"
     },
     "output_type": "display_data"
    }
   ],
   "source": [
    "pd.DataFrame(history.history).plot.line()"
   ]
  },
  {
   "cell_type": "code",
   "execution_count": 9,
   "metadata": {
    "ExecuteTime": {
     "end_time": "2021-04-29T09:50:34.903423Z",
     "start_time": "2021-04-29T09:50:34.513095Z"
    }
   },
   "outputs": [
    {
     "data": {
      "text/plain": [
       "0.5"
      ]
     },
     "execution_count": 9,
     "metadata": {},
     "output_type": "execute_result"
    }
   ],
   "source": [
    "predictions = perceptron_keras.predict(X).argmax(axis=1)\n",
    "accuracy_score(y.argmax(axis=1), predictions)"
   ]
  },
  {
   "cell_type": "code",
   "execution_count": 10,
   "metadata": {
    "ExecuteTime": {
     "end_time": "2021-04-29T09:50:35.468485Z",
     "start_time": "2021-04-29T09:50:34.907802Z"
    },
    "scrolled": false
   },
   "outputs": [
    {
     "data": {
      "image/png": "[encoded data removed]",
      "text/plain": [
       "<Figure size 720x576 with 1 Axes>"
      ]
     },
     "metadata": {
      "needs_background": "light"
     },
     "output_type": "display_data"
    }
   ],
   "source": [
    "def get_y(x, w1, w2, bias):\n",
    "    '''\n",
    "    compute y value for specific x, given the weights and bias\n",
    "    (helper function for decision boundary)\n",
    "    '''\n",
    "    return ((-(x * w1) - bias) / w2)\n",
    "    \n",
    "fig, ax = plt.subplots(figsize=(10,8))\n",
    "pd.DataFrame({'x1': a, 'x2': b}).plot.scatter(x='x1', y='x2', c=['red']*2500 + ['blue']*2500, ax=ax);\n",
    "\n",
    "(w1, w2), bias = perceptron_keras.get_weights()\n",
    "xmin, xmax = X[:,0].min() - 1, X[:,0].max() + 1\n",
    "ymin, ymax = X[:,1].min() - 1, X[:,1].max() + 1\n",
    "\n",
    "ax.plot([xmin, xmax], [get_y(xmin, w1, w2, bias)[1], get_y(xmax, w1, w2, bias)[1]], marker='o', color='green');\n"
   ]
  },
  {
   "cell_type": "markdown",
   "metadata": {
    "slideshow": {
     "slide_type": "slide"
    }
   },
   "source": [
    "## MLP"
   ]
  },
  {
   "cell_type": "code",
   "execution_count": 11,
   "metadata": {
    "ExecuteTime": {
     "end_time": "2021-04-29T09:50:35.534280Z",
     "start_time": "2021-04-29T09:50:35.470483Z"
    }
   },
   "outputs": [
    {
     "name": "stdout",
     "output_type": "stream",
     "text": [
      "Model: \"model_1\"\n",
      "_________________________________________________________________\n",
      "Layer (type)                 Output Shape              Param #   \n",
      "=================================================================\n",
      "main_input (InputLayer)      [(None, 2)]               0         \n",
      "_________________________________________________________________\n",
      "hidden (Dense)               (None, 16)                48        \n",
      "_________________________________________________________________\n",
      "output (Dense)               (None, 2)                 34        \n",
      "=================================================================\n",
      "Total params: 82\n",
      "Trainable params: 82\n",
      "Non-trainable params: 0\n",
      "_________________________________________________________________\n"
     ]
    }
   ],
   "source": [
    "# input: a sequence  of 2 integers\n",
    "mlp_input = Input(shape=(2,), name='main_input')\n",
    "\n",
    "# add a hidden layer\n",
    "mlp_hidden = Dense(16, activation='relu', name='hidden', kernel_initializer='glorot_uniform')(mlp_input)\n",
    "\n",
    "# add the output layer\n",
    "mlp_output = Dense(2, activation='softmax', name='output', kernel_initializer='glorot_uniform')(mlp_hidden)\n",
    "\n",
    "# the model is specified by connecting input and output\n",
    "mlp = Model(inputs=[mlp_input], outputs=[mlp_output])\n",
    "\n",
    "mlp.summary()"
   ]
  },
  {
   "cell_type": "code",
   "execution_count": 12,
   "metadata": {
    "ExecuteTime": {
     "end_time": "2021-04-29T09:50:55.648646Z",
     "start_time": "2021-04-29T09:50:35.540016Z"
    },
    "scrolled": false
   },
   "outputs": [
    {
     "name": "stdout",
     "output_type": "stream",
     "text": [
      "Epoch 1/50\n",
      "125/125 [==============================] - 1s 5ms/step - loss: 3.5817 - accuracy: 0.4229 - val_loss: 1.5468 - val_accuracy: 0.0000e+00\n",
      "Epoch 2/50\n",
      "125/125 [==============================] - 0s 3ms/step - loss: 0.4175 - accuracy: 0.9251 - val_loss: 0.9060 - val_accuracy: 0.0120\n",
      "Epoch 3/50\n",
      "125/125 [==============================] - 0s 4ms/step - loss: 0.2818 - accuracy: 0.9397 - val_loss: 0.6678 - val_accuracy: 0.6120\n",
      "Epoch 4/50\n",
      "125/125 [==============================] - 0s 3ms/step - loss: 0.2058 - accuracy: 0.9717 - val_loss: 0.3774 - val_accuracy: 0.9700\n",
      "Epoch 5/50\n",
      "125/125 [==============================] - 0s 3ms/step - loss: 0.1557 - accuracy: 0.9916 - val_loss: 0.3369 - val_accuracy: 0.9600\n",
      "Epoch 6/50\n",
      "125/125 [==============================] - 1s 4ms/step - loss: 0.1173 - accuracy: 0.9935 - val_loss: 0.2535 - val_accuracy: 0.9770\n",
      "Epoch 7/50\n",
      "125/125 [==============================] - 0s 3ms/step - loss: 0.0917 - accuracy: 0.9942 - val_loss: 0.2209 - val_accuracy: 0.9780\n",
      "Epoch 8/50\n",
      "125/125 [==============================] - 0s 2ms/step - loss: 0.0751 - accuracy: 0.9972 - val_loss: 0.1350 - val_accuracy: 0.9900\n",
      "Epoch 9/50\n",
      "125/125 [==============================] - 0s 3ms/step - loss: 0.0632 - accuracy: 0.9947 - val_loss: 0.1424 - val_accuracy: 0.9840\n",
      "Epoch 10/50\n",
      "125/125 [==============================] - 0s 3ms/step - loss: 0.0559 - accuracy: 0.9949 - val_loss: 0.0871 - val_accuracy: 0.9940\n",
      "Epoch 11/50\n",
      "125/125 [==============================] - 0s 3ms/step - loss: 0.0468 - accuracy: 0.9960 - val_loss: 0.0919 - val_accuracy: 0.9900\n",
      "Epoch 12/50\n",
      "125/125 [==============================] - 0s 3ms/step - loss: 0.0384 - accuracy: 0.9976 - val_loss: 0.1033 - val_accuracy: 0.9840\n",
      "Epoch 13/50\n",
      "125/125 [==============================] - 0s 3ms/step - loss: 0.0361 - accuracy: 0.9959 - val_loss: 0.0932 - val_accuracy: 0.9850\n",
      "Epoch 14/50\n",
      "125/125 [==============================] - 0s 3ms/step - loss: 0.0322 - accuracy: 0.9969 - val_loss: 0.0773 - val_accuracy: 0.9880\n",
      "Epoch 15/50\n",
      "125/125 [==============================] - 0s 3ms/step - loss: 0.0300 - accuracy: 0.9959 - val_loss: 0.0615 - val_accuracy: 0.9910\n",
      "Epoch 16/50\n",
      "125/125 [==============================] - 0s 3ms/step - loss: 0.0270 - accuracy: 0.9956 - val_loss: 0.0405 - val_accuracy: 0.9950\n",
      "Epoch 17/50\n",
      "125/125 [==============================] - 0s 3ms/step - loss: 0.0243 - accuracy: 0.9967 - val_loss: 0.0446 - val_accuracy: 0.9940\n",
      "Epoch 18/50\n",
      "125/125 [==============================] - 0s 4ms/step - loss: 0.0225 - accuracy: 0.9973 - val_loss: 0.0345 - val_accuracy: 0.9950\n",
      "Epoch 19/50\n",
      "125/125 [==============================] - 0s 3ms/step - loss: 0.0186 - accuracy: 0.9976 - val_loss: 0.0295 - val_accuracy: 0.9950\n",
      "Epoch 20/50\n",
      "125/125 [==============================] - 0s 3ms/step - loss: 0.0182 - accuracy: 0.9981 - val_loss: 0.0232 - val_accuracy: 0.9950\n",
      "Epoch 21/50\n",
      "125/125 [==============================] - 0s 3ms/step - loss: 0.0180 - accuracy: 0.9966 - val_loss: 0.0288 - val_accuracy: 0.9950\n",
      "Epoch 22/50\n",
      "125/125 [==============================] - 0s 3ms/step - loss: 0.0152 - accuracy: 0.9977 - val_loss: 0.0244 - val_accuracy: 0.9950\n",
      "Epoch 23/50\n",
      "125/125 [==============================] - 0s 2ms/step - loss: 0.0149 - accuracy: 0.9981 - val_loss: 0.0175 - val_accuracy: 0.9950\n",
      "Epoch 24/50\n",
      "125/125 [==============================] - 0s 3ms/step - loss: 0.0146 - accuracy: 0.9976 - val_loss: 0.0212 - val_accuracy: 0.9950\n",
      "Epoch 25/50\n",
      "125/125 [==============================] - 0s 3ms/step - loss: 0.0135 - accuracy: 0.9987 - val_loss: 0.0358 - val_accuracy: 0.9920\n",
      "Epoch 26/50\n",
      "125/125 [==============================] - 0s 3ms/step - loss: 0.0147 - accuracy: 0.9967 - val_loss: 0.0284 - val_accuracy: 0.9940\n",
      "Epoch 27/50\n",
      "125/125 [==============================] - 0s 3ms/step - loss: 0.0131 - accuracy: 0.9971 - val_loss: 0.0246 - val_accuracy: 0.9950\n",
      "Epoch 28/50\n",
      "125/125 [==============================] - 0s 4ms/step - loss: 0.0122 - accuracy: 0.9975 - val_loss: 0.0241 - val_accuracy: 0.9950\n",
      "Epoch 29/50\n",
      "125/125 [==============================] - 0s 3ms/step - loss: 0.0120 - accuracy: 0.9978 - val_loss: 0.0199 - val_accuracy: 0.9950\n",
      "Epoch 30/50\n",
      "125/125 [==============================] - 0s 3ms/step - loss: 0.0106 - accuracy: 0.9978 - val_loss: 0.0177 - val_accuracy: 0.9950\n",
      "Epoch 31/50\n",
      "125/125 [==============================] - 0s 3ms/step - loss: 0.0110 - accuracy: 0.9973 - val_loss: 0.0126 - val_accuracy: 0.9950\n",
      "Epoch 32/50\n",
      "125/125 [==============================] - 0s 3ms/step - loss: 0.0109 - accuracy: 0.9983 - val_loss: 0.0202 - val_accuracy: 0.9950\n",
      "Epoch 33/50\n",
      "125/125 [==============================] - 0s 3ms/step - loss: 0.0105 - accuracy: 0.9977 - val_loss: 0.0228 - val_accuracy: 0.9950\n",
      "Epoch 34/50\n",
      "125/125 [==============================] - 0s 3ms/step - loss: 0.0103 - accuracy: 0.9979 - val_loss: 0.0222 - val_accuracy: 0.9950\n",
      "Epoch 35/50\n",
      "125/125 [==============================] - 0s 3ms/step - loss: 0.0092 - accuracy: 0.9976 - val_loss: 0.0130 - val_accuracy: 0.9950\n",
      "Epoch 36/50\n",
      "125/125 [==============================] - 0s 3ms/step - loss: 0.0079 - accuracy: 0.9982 - val_loss: 0.0062 - val_accuracy: 0.9970\n",
      "Epoch 37/50\n",
      "125/125 [==============================] - 0s 2ms/step - loss: 0.0090 - accuracy: 0.9979 - val_loss: 0.0165 - val_accuracy: 0.9950\n",
      "Epoch 38/50\n",
      "125/125 [==============================] - 0s 2ms/step - loss: 0.0103 - accuracy: 0.9970 - val_loss: 0.0077 - val_accuracy: 0.9970\n",
      "Epoch 39/50\n",
      "125/125 [==============================] - 0s 2ms/step - loss: 0.0066 - accuracy: 0.9988 - val_loss: 0.0131 - val_accuracy: 0.9950\n",
      "Epoch 40/50\n",
      "125/125 [==============================] - 0s 3ms/step - loss: 0.0089 - accuracy: 0.9970 - val_loss: 0.0121 - val_accuracy: 0.9950\n",
      "Epoch 41/50\n",
      "125/125 [==============================] - 0s 3ms/step - loss: 0.0072 - accuracy: 0.9990 - val_loss: 0.0059 - val_accuracy: 0.9970\n",
      "Epoch 42/50\n",
      "125/125 [==============================] - 0s 4ms/step - loss: 0.0078 - accuracy: 0.9986 - val_loss: 0.0081 - val_accuracy: 0.9960\n",
      "Epoch 43/50\n",
      "125/125 [==============================] - 0s 3ms/step - loss: 0.0068 - accuracy: 0.9982 - val_loss: 0.0059 - val_accuracy: 0.9970\n",
      "Epoch 44/50\n",
      "125/125 [==============================] - 0s 2ms/step - loss: 0.0056 - accuracy: 0.9993 - val_loss: 0.0044 - val_accuracy: 0.9990\n",
      "Epoch 45/50\n",
      "125/125 [==============================] - 0s 2ms/step - loss: 0.0067 - accuracy: 0.9989 - val_loss: 0.0119 - val_accuracy: 0.9950\n",
      "Epoch 46/50\n",
      "125/125 [==============================] - 0s 2ms/step - loss: 0.0056 - accuracy: 0.9990 - val_loss: 0.0060 - val_accuracy: 0.9970\n",
      "Epoch 47/50\n",
      "125/125 [==============================] - 0s 3ms/step - loss: 0.0063 - accuracy: 0.9991 - val_loss: 0.0106 - val_accuracy: 0.9950\n",
      "Epoch 48/50\n",
      "125/125 [==============================] - 0s 4ms/step - loss: 0.0053 - accuracy: 0.9992 - val_loss: 0.0028 - val_accuracy: 1.0000\n",
      "Epoch 49/50\n",
      "125/125 [==============================] - 0s 4ms/step - loss: 0.0062 - accuracy: 0.9990 - val_loss: 0.0092 - val_accuracy: 0.9950\n",
      "Epoch 50/50\n",
      "125/125 [==============================] - 0s 3ms/step - loss: 0.0062 - accuracy: 0.9981 - val_loss: 0.0041 - val_accuracy: 0.9990\n"
     ]
    }
   ],
   "source": [
    "from keras import optimizers\n",
    "\n",
    "optimizer = optimizers.Adam(lr=0.001)\n",
    "\n",
    "mlp.compile(loss='binary_crossentropy',\n",
    "              optimizer=optimizer,\n",
    "              metrics=['accuracy']\n",
    "           )\n",
    "\n",
    "mlp_history = mlp.fit(X, y,\n",
    "                    epochs=50,\n",
    "                    verbose=1,\n",
    "                    validation_split=0.2)"
   ]
  },
  {
   "cell_type": "code",
   "execution_count": 13,
   "metadata": {
    "ExecuteTime": {
     "end_time": "2021-04-29T09:50:55.944021Z",
     "start_time": "2021-04-29T09:50:55.654566Z"
    }
   },
   "outputs": [
    {
     "data": {
      "image/png": "[encoded data removed]",
      "text/plain": [
       "<Figure size 432x288 with 1 Axes>"
      ]
     },
     "metadata": {
      "needs_background": "light"
     },
     "output_type": "display_data"
    }
   ],
   "source": [
    "df_mlp_history = pd.DataFrame(mlp_history.history)\n",
    "\n",
    "df_mlp_history['loss val_accuracy'.split()].plot();"
   ]
  },
  {
   "cell_type": "markdown",
   "metadata": {},
   "source": [
    "Let's compare with the sklearn implementation:"
   ]
  },
  {
   "cell_type": "code",
   "execution_count": 14,
   "metadata": {
    "ExecuteTime": {
     "end_time": "2021-04-29T09:51:14.263938Z",
     "start_time": "2021-04-29T09:50:55.946015Z"
    }
   },
   "outputs": [
    {
     "name": "stdout",
     "output_type": "stream",
     "text": [
      "(2, 2)\n"
     ]
    },
    {
     "name": "stderr",
     "output_type": "stream",
     "text": [
      "C:\\Users\\Tiziano\\anaconda3\\lib\\site-packages\\sklearn\\neural_network\\_multilayer_perceptron.py:582: ConvergenceWarning: Stochastic Optimizer: Maximum iterations (200) reached and the optimization hasn't converged yet.\n",
      "  warnings.warn(\n"
     ]
    },
    {
     "name": "stdout",
     "output_type": "stream",
     "text": [
      "[[0.50711298 0.49305473]\n",
      " [0.50711298 0.49305473]\n",
      " [0.50711298 0.49305473]\n",
      " [0.50711298 0.49305473]\n",
      " [0.50711298 0.49305473]]\n",
      "[[1 0]\n",
      " [1 0]\n",
      " [1 0]\n",
      " [1 0]\n",
      " [1 0]]\n",
      "0.7488\n",
      "\n",
      "(3, 3)\n"
     ]
    },
    {
     "name": "stderr",
     "output_type": "stream",
     "text": [
      "C:\\Users\\Tiziano\\anaconda3\\lib\\site-packages\\sklearn\\neural_network\\_multilayer_perceptron.py:582: ConvergenceWarning: Stochastic Optimizer: Maximum iterations (200) reached and the optimization hasn't converged yet.\n",
      "  warnings.warn(\n"
     ]
    },
    {
     "name": "stdout",
     "output_type": "stream",
     "text": [
      "[[0.98805509 0.01274637]\n",
      " [0.98805509 0.01274637]\n",
      " [0.98805509 0.01274637]\n",
      " [0.98805509 0.01274637]\n",
      " [0.98805509 0.01274637]]\n",
      "[[1 0]\n",
      " [1 0]\n",
      " [1 0]\n",
      " [1 0]\n",
      " [1 0]]\n",
      "0.9994\n",
      "\n",
      "(3, 3, 3)\n",
      "[[0.99392145 0.00443776]\n",
      " [0.99461948 0.00367377]\n",
      " [0.99441927 0.00388766]\n",
      " [0.99244478 0.0062148 ]\n",
      " [0.99426258 0.00405802]]\n",
      "[[1 0]\n",
      " [1 0]\n",
      " [1 0]\n",
      " [1 0]\n",
      " [1 0]]\n",
      "1.0\n",
      "\n"
     ]
    }
   ],
   "source": [
    "from sklearn.neural_network import MLPClassifier\n",
    "\n",
    "# try different nr of layers and layers' size\n",
    "# the hidden_layer_sizes parameters takes a tuple where \n",
    "# the ith values represent the ith layer size\n",
    "for tup in [(2, 2), (3, 3), (3, 3, 3)]:\n",
    "    print(tup)\n",
    "    # instantiate and train the MLP\n",
    "    clf = MLPClassifier(hidden_layer_sizes=tup, \n",
    "                        random_state=1, \n",
    "                        max_iter=200)\n",
    "    clf.fit(X, y)\n",
    "    # print the predictions as probability ditributions\n",
    "    print(clf.predict_proba(X[:5]))\n",
    "    # print the predicted classes\n",
    "    print(clf.predict(X[:5]))\n",
    "    # print the model's performance\n",
    "    print(clf.score(X, y))\n",
    "    print()\n"
   ]
  },
  {
   "cell_type": "markdown",
   "metadata": {
    "slideshow": {
     "slide_type": "fragment"
    }
   },
   "source": [
    "# Further reading\n",
    "\n",
    "- http://u.cs.biu.ac.il/~yogo/nnlp.pdf (Chapters 1-4)\n",
    "- https://github.com/nyu-dl/NLP_DL_Lecture_Note/blob/master/lecture_note.pdf (Chapters 3, 4)\n",
    "- https://www.coursera.org/learn/machine-learning (Weeks 4, 5)\n",
    "- http://colah.github.io/posts/2014-03-NN-Manifolds-Topology/"
   ]
  },
  {
   "cell_type": "code",
   "execution_count": null,
   "metadata": {},
   "outputs": [],
   "source": [
    " "
   ]
  }
 ],
 "metadata": {
  "anaconda-cloud": {},
  "celltoolbar": "Slideshow",
  "kernelspec": {
   "display_name": "Python 3",
   "language": "python",
   "name": "python3"
  },
  "language_info": {
   "codemirror_mode": {
    "name": "ipython",
    "version": 3
   },
   "file_extension": ".py",
   "mimetype": "text/x-python",
   "name": "python",
   "nbconvert_exporter": "python",
   "pygments_lexer": "ipython3",
   "version": "3.8.3"
  },
  "nbpresent": {
   "slides": {
    "3e606cca-ddab-4b87-8295-f1cca7962a9d": {
     "id": "3e606cca-ddab-4b87-8295-f1cca7962a9d",
     "prev": "8921ba99-3b08-4f47-affd-b6f8fadaa8cd",
     "regions": {
      "cb08d0e1-9b2e-4940-95dc-76a8f9e75b03": {
       "attrs": {
        "height": 0.8,
        "width": 0.8,
        "x": 0.1,
        "y": 0.1
       },
       "content": {
        "cell": "67ca55d4-28b9-410e-9921-08d943aa3151",
        "part": "whole"
       },
       "id": "cb08d0e1-9b2e-4940-95dc-76a8f9e75b03"
      }
     }
    },
    "8921ba99-3b08-4f47-affd-b6f8fadaa8cd": {
     "id": "8921ba99-3b08-4f47-affd-b6f8fadaa8cd",
     "prev": null,
     "regions": {
      "48e51b5b-c219-4946-bad8-4b170ff7da1b": {
       "attrs": {
        "height": 0.8,
        "width": 0.8,
        "x": 0.1,
        "y": 0.1
       },
       "content": {
        "cell": "ad90604f-afeb-4baa-b940-c3a1f3de8891",
        "part": "whole"
       },
       "id": "48e51b5b-c219-4946-bad8-4b170ff7da1b"
      }
     }
    }
   },
   "themes": {}
  }
 },
 "nbformat": 4,
 "nbformat_minor": 1
}
