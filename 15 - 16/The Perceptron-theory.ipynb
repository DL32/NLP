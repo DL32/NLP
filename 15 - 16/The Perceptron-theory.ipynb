{
 "cells": [
  {
   "cell_type": "markdown",
   "metadata": {
    "nbpresent": {
     "id": "ad90604f-afeb-4baa-b940-c3a1f3de8891"
    },
    "slideshow": {
     "slide_type": "slide"
    }
   },
   "source": [
    "# The Perceptron"
   ]
  },
  {
   "cell_type": "code",
   "execution_count": 1,
   "metadata": {
    "ExecuteTime": {
     "end_time": "2021-04-29T09:29:25.222042Z",
     "start_time": "2021-04-29T09:29:21.021956Z"
    },
    "slideshow": {
     "slide_type": "skip"
    }
   },
   "outputs": [],
   "source": [
    "%matplotlib inline\n",
    "import numpy as np\n",
    "import matplotlib.pyplot as plt\n",
    "import seaborn as sbs\n",
    "import pandas as pd\n",
    "from sklearn.metrics import accuracy_score\n",
    "sbs.set_context('notebook')"
   ]
  },
  {
   "cell_type": "markdown",
   "metadata": {},
   "source": [
    "## Defining activation functions\n",
    "We need some \"squishification\" functions that squeeze the output of a layer into a defined range:"
   ]
  },
  {
   "cell_type": "code",
   "execution_count": 2,
   "metadata": {
    "ExecuteTime": {
     "end_time": "2021-04-29T09:29:25.237376Z",
     "start_time": "2021-04-29T09:29:25.222042Z"
    }
   },
   "outputs": [],
   "source": [
    "def sigmoid(x):\n",
    "    '''\n",
    "    ranges from  0 to 1\n",
    "    '''\n",
    "    return 1 / (1 + np.exp(-x))\n",
    "\n",
    "def relu(x):\n",
    "    '''\n",
    "    ranges from  0 to 1\n",
    "    '''\n",
    "    return np.where(x > 0, x, 0)"
   ]
  },
  {
   "cell_type": "markdown",
   "metadata": {},
   "source": [
    "## Creating the `Perceptron` class"
   ]
  },
  {
   "cell_type": "code",
   "execution_count": 3,
   "metadata": {
    "ExecuteTime": {
     "end_time": "2021-04-29T09:29:51.037256Z",
     "start_time": "2021-04-29T09:29:51.017500Z"
    },
    "slideshow": {
     "slide_type": "subslide"
    }
   },
   "outputs": [],
   "source": [
    "class Perceptron:\n",
    "    # instantiating the class, initializing the weights and bias \n",
    "    def __init__(self, num_inputs):\n",
    "        self.w1 = np.random.random(num_inputs)\n",
    "        self.b1 = 1\n",
    "    \n",
    "    # feedforward pass\n",
    "    def predict(self, X):\n",
    "        # compute activation for input layer\n",
    "        activation = np.dot(X, self.w1) + self.b1\n",
    "        # non-linear transform\n",
    "        fX = sigmoid(activation)\n",
    "        # check threshold: for sigmoid and relu, use 0.5, for tanh, use 0\n",
    "        y = np.where(fX >= 0.5, 1, -1)\n",
    "        return y\n",
    "    \n",
    "    # training step\n",
    "    def fit(self, train_data, train_labels, num_epochs=20):\n",
    "        models = []\n",
    "        print(num_epochs)\n",
    "        for epoch in range(1, num_epochs+1):\n",
    "            print(epoch)\n",
    "            for (X, y) in zip(train_data, train_labels):\n",
    "                pred_label = self.predict(X)\n",
    "\n",
    "                # adjusting weights and bias\n",
    "                if pred_label != y:\n",
    "                    print('update')\n",
    "                    self.w1 = self.w1 + (X * y)\n",
    "                    self.b1 = self.b1 + y\n",
    "        \n",
    "            # storing the models weights\n",
    "            models.append((self.w1, self.b1))\n",
    "\n",
    "        return models"
   ]
  },
  {
   "cell_type": "markdown",
   "metadata": {},
   "source": [
    "Let's create a `Perceptron` that encodes the logical function `AND` "
   ]
  },
  {
   "cell_type": "code",
   "execution_count": 4,
   "metadata": {
    "ExecuteTime": {
     "end_time": "2021-04-29T09:31:29.767725Z",
     "start_time": "2021-04-29T09:31:29.652993Z"
    }
   },
   "outputs": [
    {
     "name": "stdout",
     "output_type": "stream",
     "text": [
      "10\n",
      "1\n",
      "update\n",
      "update\n",
      "2\n",
      "update\n",
      "update\n",
      "3\n",
      "update\n",
      "update\n",
      "update\n",
      "4\n",
      "update\n",
      "update\n",
      "5\n",
      "update\n",
      "update\n",
      "6\n",
      "7\n",
      "8\n",
      "9\n",
      "10\n",
      "[ 1 -1 -1 -1] 1.0\n",
      "[(array([-0.45187467, -0.10942709]), -1), (array([-0.45187467,  0.89057291]), -1), (array([-0.45187467,  0.89057291]), -2), (array([0.54812533, 0.89057291]), -2), (array([0.54812533, 1.89057291]), -2), (array([0.54812533, 1.89057291]), -2), (array([0.54812533, 1.89057291]), -2), (array([0.54812533, 1.89057291]), -2), (array([0.54812533, 1.89057291]), -2), (array([0.54812533, 1.89057291]), -2)]\n"
     ]
    }
   ],
   "source": [
    "# AND perceptron\n",
    "perceptron = Perceptron(2)\n",
    "\n",
    "# defining all the possible combinations of 2 boolean features\n",
    "and_data = np.array([[1, 1], [1, 0], [0, 1], [0, 0]])\n",
    "# the AND function is True only if both features are True\n",
    "and_labels = np.array([1, -1, -1, -1], dtype=np.int)\n",
    "\n",
    "# Training step\n",
    "iters = perceptron.fit(and_data, and_labels, num_epochs=10)\n",
    "# Test step\n",
    "and_predictions = perceptron.predict(and_data)\n",
    "\n",
    "print(and_predictions, accuracy_score(and_labels, and_predictions))\n",
    "\n",
    "print(iters)"
   ]
  },
  {
   "cell_type": "markdown",
   "metadata": {
    "slideshow": {
     "slide_type": "subslide"
    }
   },
   "source": [
    "But what about this?\n",
    "<img src=\"andxor.png\">"
   ]
  },
  {
   "cell_type": "code",
   "execution_count": 5,
   "metadata": {
    "ExecuteTime": {
     "end_time": "2021-04-29T09:32:14.356884Z",
     "start_time": "2021-04-29T09:32:14.337175Z"
    }
   },
   "outputs": [
    {
     "name": "stdout",
     "output_type": "stream",
     "text": [
      "20\n",
      "1\n",
      "update\n",
      "update\n",
      "update\n",
      "2\n",
      "update\n",
      "update\n",
      "update\n",
      "update\n",
      "3\n",
      "update\n",
      "update\n",
      "update\n",
      "update\n",
      "4\n",
      "update\n",
      "update\n",
      "update\n",
      "update\n",
      "5\n",
      "update\n",
      "update\n",
      "update\n",
      "update\n",
      "6\n",
      "update\n",
      "update\n",
      "update\n",
      "update\n",
      "7\n",
      "update\n",
      "update\n",
      "update\n",
      "update\n",
      "8\n",
      "update\n",
      "update\n",
      "update\n",
      "update\n",
      "9\n",
      "update\n",
      "update\n",
      "update\n",
      "update\n",
      "10\n",
      "update\n",
      "update\n",
      "update\n",
      "update\n",
      "11\n",
      "update\n",
      "update\n",
      "update\n",
      "update\n",
      "12\n",
      "update\n",
      "update\n",
      "update\n",
      "update\n",
      "13\n",
      "update\n",
      "update\n",
      "update\n",
      "update\n",
      "14\n",
      "update\n",
      "update\n",
      "update\n",
      "update\n",
      "15\n",
      "update\n",
      "update\n",
      "update\n",
      "update\n",
      "16\n",
      "update\n",
      "update\n",
      "update\n",
      "update\n",
      "17\n",
      "update\n",
      "update\n",
      "update\n",
      "update\n",
      "18\n",
      "update\n",
      "update\n",
      "update\n",
      "update\n",
      "19\n",
      "update\n",
      "update\n",
      "update\n",
      "update\n",
      "20\n",
      "update\n",
      "update\n",
      "update\n",
      "update\n",
      "[ 1 -1  1 -1] 0.5\n"
     ]
    }
   ],
   "source": [
    "# as above, defining all the possible combinations of 2 boolean features\n",
    "xor_data = np.array([[1, 1], [1, 0], [0, 1], [0, 0]])\n",
    "# the XOR function is True if only one feature is True\n",
    "xor_labels = np.array([-1, 1, 1, -1])\n",
    "\n",
    "iters = perceptron.fit(xor_data, xor_labels, num_epochs=20)\n",
    "\n",
    "xor_predictions = perceptron.predict(xor_data)\n",
    "print(xor_predictions, accuracy_score(xor_labels, xor_predictions))"
   ]
  },
  {
   "cell_type": "markdown",
   "metadata": {
    "slideshow": {
     "slide_type": "subslide"
    }
   },
   "source": [
    "The `Perceptron` fails.\n",
    "\n",
    "Perceptrons are **linear classifiers**. I.e., they can only find a perfect fit to **linearly seperable data** if only first order features are used.\n",
    "\n",
    "We will see how to address this in the ***MultiLayer Perceptron*** (MLP)."
   ]
  },
  {
   "cell_type": "code",
   "execution_count": null,
   "metadata": {},
   "outputs": [],
   "source": []
  }
 ],
 "metadata": {
  "anaconda-cloud": {},
  "celltoolbar": "Slideshow",
  "kernelspec": {
   "display_name": "Python 3",
   "language": "python",
   "name": "python3"
  },
  "language_info": {
   "codemirror_mode": {
    "name": "ipython",
    "version": 3
   },
   "file_extension": ".py",
   "mimetype": "text/x-python",
   "name": "python",
   "nbconvert_exporter": "python",
   "pygments_lexer": "ipython3",
   "version": "3.8.3"
  },
  "nbpresent": {
   "slides": {
    "3e606cca-ddab-4b87-8295-f1cca7962a9d": {
     "id": "3e606cca-ddab-4b87-8295-f1cca7962a9d",
     "prev": "8921ba99-3b08-4f47-affd-b6f8fadaa8cd",
     "regions": {
      "cb08d0e1-9b2e-4940-95dc-76a8f9e75b03": {
       "attrs": {
        "height": 0.8,
        "width": 0.8,
        "x": 0.1,
        "y": 0.1
       },
       "content": {
        "cell": "67ca55d4-28b9-410e-9921-08d943aa3151",
        "part": "whole"
       },
       "id": "cb08d0e1-9b2e-4940-95dc-76a8f9e75b03"
      }
     }
    },
    "8921ba99-3b08-4f47-affd-b6f8fadaa8cd": {
     "id": "8921ba99-3b08-4f47-affd-b6f8fadaa8cd",
     "prev": null,
     "regions": {
      "48e51b5b-c219-4946-bad8-4b170ff7da1b": {
       "attrs": {
        "height": 0.8,
        "width": 0.8,
        "x": 0.1,
        "y": 0.1
       },
       "content": {
        "cell": "ad90604f-afeb-4baa-b940-c3a1f3de8891",
        "part": "whole"
       },
       "id": "48e51b5b-c219-4946-bad8-4b170ff7da1b"
      }
     }
    }
   },
   "themes": {}
  }
 },
 "nbformat": 4,
 "nbformat_minor": 1
}
