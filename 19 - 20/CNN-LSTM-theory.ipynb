{
 "cells": [
  {
   "cell_type": "markdown",
   "metadata": {
    "slideshow": {
     "slide_type": "slide"
    }
   },
   "source": [
    "# Convolutional Neural Networks\n",
    "\n",
    "Let's look at CNNs, and how we can do simple classification with them."
   ]
  },
  {
   "cell_type": "markdown",
   "metadata": {
    "slideshow": {
     "slide_type": "slide"
    }
   },
   "source": [
    "## Data\n",
    "\n",
    "We'll use a subset of the wine reviews"
   ]
  },
  {
   "cell_type": "code",
   "execution_count": 2,
   "metadata": {
    "ExecuteTime": {
     "end_time": "2021-04-30T12:14:31.106846Z",
     "start_time": "2021-04-30T12:14:19.752887Z"
    }
   },
   "outputs": [],
   "source": [
    "import pandas as pd\n",
    "\n",
    "target = 'country'\n",
    "input_column = 'description_cleaned'\n",
    "\n",
    "data = pd.read_excel('../data/wine_reviews-top4.xlsx', \n",
    "                     usecols=[input_column, target]\n",
    "                    )\n",
    "\n",
    "# make train-dev-test splits\n",
    "train_data = data[:45000]\n",
    "dev_data = data[45000:60000]\n",
    "test_data = data[60000:]\n",
    "\n",
    "train_instances = train_data[input_column].apply(str).apply(str.split)\n",
    "train_labels = train_data[target]\n",
    "\n",
    "# collect known word tokens and tags\n",
    "wordset, labelset = set(), set()\n",
    "\n",
    "# collect tags from all data, to prevent unseen labels\n",
    "labelset.update(set(data[target]))\n",
    "\n",
    "# get the vocabulary\n",
    "for words in train_instances:\n",
    "    wordset.update(set(words))\n",
    "\n",
    "# map words and tags into ints\n",
    "PAD = '-PAD-'\n",
    "UNK = '-UNK-'\n",
    "word2int = {word: i + 2 for i, word in enumerate(sorted(wordset))}\n",
    "word2int[PAD] = 0  # special token for padding\n",
    "word2int[UNK] = 1  # special token for unknown words\n",
    " \n",
    "label2int = {label: i for i, label in enumerate(sorted(labelset))}\n",
    "# inverted index to translate it back\n",
    "int2label = {i:label for label, i in label2int.items()}\n",
    "\n",
    "\n",
    "def convert2ints(instances):\n",
    "    \"\"\"\n",
    "    function to apply the mapping to all words\n",
    "    \"\"\"\n",
    "    result = []\n",
    "    for words in instances:\n",
    "        # replace words with int, 1 for unknown words\n",
    "        word_ints = [word2int.get(word, 1) for word in words]\n",
    "        result.append(word_ints)\n",
    "    return result\n",
    "                          \n",
    "train_instances_int = convert2ints(train_instances)\n",
    "train_labels_int = [label2int[label] for label in train_labels]"
   ]
  },
  {
   "cell_type": "code",
   "execution_count": 3,
   "metadata": {
    "ExecuteTime": {
     "end_time": "2021-04-30T12:14:45.919683Z",
     "start_time": "2021-04-30T12:14:45.902340Z"
    }
   },
   "outputs": [
    {
     "data": {
      "text/html": [
       "<div>\n",
       "<style scoped>\n",
       "    .dataframe tbody tr th:only-of-type {\n",
       "        vertical-align: middle;\n",
       "    }\n",
       "\n",
       "    .dataframe tbody tr th {\n",
       "        vertical-align: top;\n",
       "    }\n",
       "\n",
       "    .dataframe thead th {\n",
       "        text-align: right;\n",
       "    }\n",
       "</style>\n",
       "<table border=\"1\" class=\"dataframe\">\n",
       "  <thead>\n",
       "    <tr style=\"text-align: right;\">\n",
       "      <th></th>\n",
       "      <th>country</th>\n",
       "      <th>description_cleaned</th>\n",
       "    </tr>\n",
       "  </thead>\n",
       "  <tbody>\n",
       "    <tr>\n",
       "      <th>0</th>\n",
       "      <td>US</td>\n",
       "      <td>wine drink qualitatively its low price deliver...</td>\n",
       "    </tr>\n",
       "    <tr>\n",
       "      <th>1</th>\n",
       "      <td>US</td>\n",
       "      <td>soft creamy flavor buttered toast pineapple ma...</td>\n",
       "    </tr>\n",
       "    <tr>\n",
       "      <th>2</th>\n",
       "      <td>US</td>\n",
       "      <td>bit too soft which make exceptionally ripe bla...</td>\n",
       "    </tr>\n",
       "    <tr>\n",
       "      <th>3</th>\n",
       "      <td>US</td>\n",
       "      <td>dark purple mixed aroma juicy plum sawdust clo...</td>\n",
       "    </tr>\n",
       "    <tr>\n",
       "      <th>4</th>\n",
       "      <td>Italy</td>\n",
       "      <td>deliver very attractive ensemble ripe fruit ar...</td>\n",
       "    </tr>\n",
       "    <tr>\n",
       "      <th>...</th>\n",
       "      <td>...</td>\n",
       "      <td>...</td>\n",
       "    </tr>\n",
       "    <tr>\n",
       "      <th>75264</th>\n",
       "      <td>US</td>\n",
       "      <td>ripe cherry chocolate fruit slightly rustic mo...</td>\n",
       "    </tr>\n",
       "    <tr>\n",
       "      <th>75265</th>\n",
       "      <td>Italy</td>\n",
       "      <td>make use organically farm fruit be simple frui...</td>\n",
       "    </tr>\n",
       "    <tr>\n",
       "      <th>75266</th>\n",
       "      <td>Italy</td>\n",
       "      <td>show pretty polished nose dusty mineral note b...</td>\n",
       "    </tr>\n",
       "    <tr>\n",
       "      <th>75267</th>\n",
       "      <td>France</td>\n",
       "      <td>be not just late harvest wine there be definit...</td>\n",
       "    </tr>\n",
       "    <tr>\n",
       "      <th>75268</th>\n",
       "      <td>France</td>\n",
       "      <td>soft simple have pear flavor touch vanilla cre...</td>\n",
       "    </tr>\n",
       "  </tbody>\n",
       "</table>\n",
       "<p>75269 rows × 2 columns</p>\n",
       "</div>"
      ],
      "text/plain": [
       "      country                                description_cleaned\n",
       "0          US  wine drink qualitatively its low price deliver...\n",
       "1          US  soft creamy flavor buttered toast pineapple ma...\n",
       "2          US  bit too soft which make exceptionally ripe bla...\n",
       "3          US  dark purple mixed aroma juicy plum sawdust clo...\n",
       "4       Italy  deliver very attractive ensemble ripe fruit ar...\n",
       "...       ...                                                ...\n",
       "75264      US  ripe cherry chocolate fruit slightly rustic mo...\n",
       "75265   Italy  make use organically farm fruit be simple frui...\n",
       "75266   Italy  show pretty polished nose dusty mineral note b...\n",
       "75267  France  be not just late harvest wine there be definit...\n",
       "75268  France  soft simple have pear flavor touch vanilla cre...\n",
       "\n",
       "[75269 rows x 2 columns]"
      ]
     },
     "execution_count": 3,
     "metadata": {},
     "output_type": "execute_result"
    }
   ],
   "source": [
    "data"
   ]
  },
  {
   "cell_type": "markdown",
   "metadata": {},
   "source": [
    "Let's see how many words we have in our vocabulary:"
   ]
  },
  {
   "cell_type": "code",
   "execution_count": 3,
   "metadata": {},
   "outputs": [
    {
     "data": {
      "text/plain": [
       "12115"
      ]
     },
     "execution_count": 3,
     "metadata": {},
     "output_type": "execute_result"
    }
   ],
   "source": [
    "len(word2int)"
   ]
  },
  {
   "cell_type": "markdown",
   "metadata": {},
   "source": [
    "Ok, time to convert the dev and test splits as well:"
   ]
  },
  {
   "cell_type": "code",
   "execution_count": 4,
   "metadata": {},
   "outputs": [],
   "source": [
    "# convert test data \n",
    "test_instances = test_data[input_column].apply(str).apply(str.split)\n",
    "test_labels = test_data[target]\n",
    "\n",
    "test_instances_int = convert2ints(test_instances)\n",
    "test_labels_int = [label2int[label] for label in test_labels]\n",
    "\n",
    "# convert dev data\n",
    "dev_instances = dev_data[input_column].apply(str).apply(str.split)\n",
    "dev_labels = dev_data[target]\n",
    "\n",
    "dev_instances_int = convert2ints(dev_instances)\n",
    "dev_labels_int = [label2int[label] for label in dev_labels]"
   ]
  },
  {
   "cell_type": "markdown",
   "metadata": {},
   "source": [
    "We need to convert the labels from a single value to a 1-hot distribution over all possible values (i.e., all have 0 probabilty, only the correct label has probability 1). Luckily, there is a function for it."
   ]
  },
  {
   "cell_type": "code",
   "execution_count": 5,
   "metadata": {},
   "outputs": [
    {
     "data": {
      "text/plain": [
       "array([0., 0., 0., 1.], dtype=float32)"
      ]
     },
     "execution_count": 5,
     "metadata": {},
     "output_type": "execute_result"
    }
   ],
   "source": [
    "from keras.utils import to_categorical\n",
    "\n",
    "train_labels_1hot = to_categorical(train_labels_int, len(label2int))\n",
    "test_labels_1hot = to_categorical(test_labels_int, len(label2int))\n",
    "dev_labels_1hot = to_categorical(dev_labels_int, len(label2int))\n",
    "\n",
    "train_labels_1hot[0]"
   ]
  },
  {
   "cell_type": "markdown",
   "metadata": {},
   "source": [
    "Even though CNNs can take variable-length input, it is easier computationally to pad all instances up to the same length. We could just use the maximum length, but since length follows a power law (Zipf) distribution, we would pad a lot of instances to match only the real length of one or two very long sequences. Instead, we use the 95th percentile of length as maximum."
   ]
  },
  {
   "cell_type": "code",
   "execution_count": 6,
   "metadata": {},
   "outputs": [
    {
     "name": "stdout",
     "output_type": "stream",
     "text": [
      "39\n",
      "['wine', 'drink', 'qualitatively', 'its', 'low', 'price', 'deliver', 'light', 'clear', 'color', 'tangy', 'wisps', 'cranberry', 'citrus', 'ting', 'minerality', 'depth', 'character', 'that', 'build', 'midpalate', 'finish', 'lean', 'crisp', 'wonderfully', 'elegant', 'expression', 'variety'] 28\n",
      "[11900  3284  8306  5597  6123  8071  2917  5964  2019  2157 10570 11931\n",
      "  2570  1971 10843  6543  2955  1787 10739  1445  6498  4066  5871  2621\n",
      " 11954  3455  3816 11542     0     0     0     0     0     0     0     0\n",
      "     0     0     0] 39\n"
     ]
    }
   ],
   "source": [
    "# compute 95th percentile of training sentence lengths\n",
    "L = sorted(map(len, train_instances))\n",
    "MAX_LENGTH = L[int(len(L)*0.95)]\n",
    "print(MAX_LENGTH)\n",
    "\n",
    "# apply padding\n",
    "from keras.preprocessing.sequence import pad_sequences\n",
    "train_instances_int = pad_sequences(train_instances_int, padding='post', maxlen=MAX_LENGTH)\n",
    "test_instances_int = pad_sequences(test_instances_int, padding='post', maxlen=MAX_LENGTH)\n",
    "dev_instances_int = pad_sequences(dev_instances_int, padding='post', maxlen=MAX_LENGTH)\n",
    "\n",
    "print(train_instances[0], len(train_instances[0]))\n",
    "print(train_instances_int[0], len(train_instances_int[0]))"
   ]
  },
  {
   "cell_type": "markdown",
   "metadata": {},
   "source": [
    "## Model\n",
    "\n",
    "Ok, let's implement the model. We will use the functional API for keras to do that. I.e., each layer is a function that takes as input the previous layer."
   ]
  },
  {
   "cell_type": "code",
   "execution_count": 8,
   "metadata": {},
   "outputs": [
    {
     "name": "stdout",
     "output_type": "stream",
     "text": [
      "Model: \"model_1\"\n",
      "_________________________________________________________________\n",
      "Layer (type)                 Output Shape              Param #   \n",
      "=================================================================\n",
      "word_IDs (InputLayer)        [(None, 39)]              0         \n",
      "_________________________________________________________________\n",
      "embedding_1 (Embedding)      (None, 39, 64)            775360    \n",
      "_________________________________________________________________\n",
      "conv1d_1 (Conv1D)            (None, 39, 64)            12352     \n",
      "_________________________________________________________________\n",
      "activation_1 (Activation)    (None, 39, 64)            0         \n",
      "_________________________________________________________________\n",
      "global_max_pooling1d_1 (Glob (None, 64)                0         \n",
      "_________________________________________________________________\n",
      "dropout_2 (Dropout)          (None, 64)                0         \n",
      "_________________________________________________________________\n",
      "dense_2 (Dense)              (None, 32)                2080      \n",
      "_________________________________________________________________\n",
      "dropout_3 (Dropout)          (None, 32)                0         \n",
      "_________________________________________________________________\n",
      "dense_3 (Dense)              (None, 4)                 132       \n",
      "=================================================================\n",
      "Total params: 789,924\n",
      "Trainable params: 789,924\n",
      "Non-trainable params: 0\n",
      "_________________________________________________________________\n"
     ]
    }
   ],
   "source": [
    "from keras.models import Model\n",
    "from keras.layers import Input\n",
    "from keras.layers import Embedding\n",
    "from keras.layers.convolutional import Conv1D\n",
    "from keras.layers import GlobalMaxPooling1D, Dropout\n",
    "from keras.layers.core import Dense, Activation\n",
    "import numpy as np\n",
    "\n",
    "# make it repeatable\n",
    "np.random.seed(42)\n",
    "\n",
    "# set parameters of matrices and convolution\n",
    "embedding_dim = 64\n",
    "nb_filter = 64\n",
    "filter_length = 3\n",
    "hidden_dims = 32\n",
    "stride_length = 1\n",
    "\n",
    "inputs = Input((MAX_LENGTH, ), \n",
    "               name='word_IDs')\n",
    "embeddings = Embedding(len(word2int), \n",
    "                       embedding_dim, \n",
    "                       input_length=MAX_LENGTH)(inputs)\n",
    "convolution = Conv1D(filters=nb_filter,  # Number of filters to use\n",
    "                    kernel_size=filter_length, # n-gram range of each filter.\n",
    "                    padding='same',  #valid: don't go off edge; same: use padding before applying filter\n",
    "                    activation='relu',\n",
    "                    strides=stride_length)(embeddings)\n",
    "convolution2 = Activation(activation='tanh')(convolution)\n",
    "pooling = GlobalMaxPooling1D()(convolution2)\n",
    "dropout1 = Dropout(0.2)(pooling)\n",
    "dense = Dense(hidden_dims, activation='relu')(dropout1)\n",
    "dropout2 = Dropout(0.2)(dense)\n",
    "output = Dense(len(label2int), activation='softmax')(dropout2)\n",
    "\n",
    "model = Model(inputs=[inputs], outputs=[output])\n",
    "model.compile(optimizer='adam',\n",
    "              loss='categorical_crossentropy',\n",
    "              metrics=['accuracy'])\n",
    "\n",
    "# get alist of all the layers and their size\n",
    "model.summary()"
   ]
  },
  {
   "cell_type": "markdown",
   "metadata": {},
   "source": [
    "We easily have twice the parameters we had for the structured perceptron already, and way more than what we would ordinarily have for classification models. \n",
    "\n",
    "Let's fit the data. One of the most important parameters is the batch size. If things do not work, this is one of the first to play around with."
   ]
  },
  {
   "cell_type": "code",
   "execution_count": 9,
   "metadata": {},
   "outputs": [
    {
     "name": "stdout",
     "output_type": "stream",
     "text": [
      "Epoch 1/5\n",
      "704/704 [==============================] - 6s 8ms/step - loss: 0.8262 - accuracy: 0.6842 - val_loss: 0.2787 - val_accuracy: 0.9079\n",
      "Epoch 2/5\n",
      "704/704 [==============================] - 6s 8ms/step - loss: 0.2715 - accuracy: 0.9115 - val_loss: 0.2365 - val_accuracy: 0.9213\n",
      "Epoch 3/5\n",
      "704/704 [==============================] - 6s 8ms/step - loss: 0.1694 - accuracy: 0.9476 - val_loss: 0.2367 - val_accuracy: 0.9243\n",
      "Epoch 4/5\n",
      "704/704 [==============================] - 5s 8ms/step - loss: 0.1162 - accuracy: 0.9633 - val_loss: 0.2418 - val_accuracy: 0.9227\n",
      "Epoch 5/5\n",
      "704/704 [==============================] - 5s 8ms/step - loss: 0.0823 - accuracy: 0.9733 - val_loss: 0.2787 - val_accuracy: 0.9225\n",
      "\n",
      "Testing Accuracy:  0.9207\n"
     ]
    }
   ],
   "source": [
    "# batch size can have a huge effect on performance!\n",
    "batch_size = 64\n",
    "epochs = 5\n",
    "\n",
    "history = model.fit(train_instances_int, train_labels_1hot,\n",
    "                    batch_size=batch_size,\n",
    "                    epochs=epochs,\n",
    "                    verbose=1,\n",
    "                    validation_data=(dev_instances_int, dev_labels_1hot)\n",
    "                   )\n",
    "\n",
    "loss, accuracy = model.evaluate(test_instances_int, test_labels_1hot,\n",
    "                                batch_size=batch_size,\n",
    "                                verbose=False)\n",
    "\n",
    "print(\"\\nTesting Accuracy:  {:.4f}\".format(accuracy))"
   ]
  },
  {
   "cell_type": "markdown",
   "metadata": {},
   "source": [
    "The `history`property allows us to easily plot the progression of the model on training and test data. By default, it measures accuracy (meh) and loss. Note that the loss is not necessarily the best indicator of performance, though it does correlate with most metrics we're interested in."
   ]
  },
  {
   "cell_type": "code",
   "execution_count": 10,
   "metadata": {},
   "outputs": [
    {
     "data": {
      "image/png": "[encoded data removed]",
      "text/plain": [
       "<Figure size 432x288 with 1 Axes>"
      ]
     },
     "metadata": {
      "needs_background": "light"
     },
     "output_type": "display_data"
    },
    {
     "data": {
      "image/png": "[encoded data removed]",
      "text/plain": [
       "<Figure size 432x288 with 1 Axes>"
      ]
     },
     "metadata": {
      "needs_background": "light"
     },
     "output_type": "display_data"
    }
   ],
   "source": [
    "%matplotlib inline\n",
    "df = pd.DataFrame(history.history)\n",
    "df[['val_accuracy', 'accuracy']].plot.line();\n",
    "df[['val_loss', 'loss']].plot.line();"
   ]
  },
  {
   "cell_type": "markdown",
   "metadata": {
    "slideshow": {
     "slide_type": "slide"
    }
   },
   "source": [
    "# Structured  Prediction with (Bi-)LSTMs\n",
    "\n",
    "Let's now look at structured prediction. We will use two recurrent neural models: an LSTM and a bi-LSTM."
   ]
  },
  {
   "cell_type": "markdown",
   "metadata": {
    "slideshow": {
     "slide_type": "slide"
    }
   },
   "source": [
    "## Data\n",
    "\n",
    "We need to get some data. We use the same CoNLL reader function as we had for the Structured Perceptron."
   ]
  },
  {
   "cell_type": "code",
   "execution_count": 9,
   "metadata": {},
   "outputs": [],
   "source": [
    "def read_conll_file(file_name):\n",
    "    \"\"\"\n",
    "    read in a file with CoNLL format:\n",
    "    word1    tag1\n",
    "    word2    tag2\n",
    "    ...      ...\n",
    "    wordN    tagN\n",
    "\n",
    "    Sentences MUST be separated by newlines!\n",
    "    \"\"\"\n",
    "    current_words = []\n",
    "    current_tags = []\n",
    "\n",
    "    with open(file_name, encoding='utf-8') as conll:\n",
    "        for line in conll:\n",
    "            line = line.strip()\n",
    "\n",
    "            if line:\n",
    "                word, tag = line.split('\\t')\n",
    "                current_words.append(word)\n",
    "                current_tags.append(tag)\n",
    "\n",
    "            else:\n",
    "                yield (current_words, current_tags)\n",
    "                current_words = []\n",
    "                current_tags = []\n",
    "\n",
    "    # if file does not end in newline (it should...), check whether there is an instance in the buffer\n",
    "    if current_tags != []:\n",
    "        yield (current_words, current_tags)"
   ]
  },
  {
   "cell_type": "markdown",
   "metadata": {},
   "source": [
    "Now we need to do some bookkeeping: collect the set of known words and tags, map both words and tags into integer indices, and keep track of the mapping. We also need two special tokens: one for unknown words, the other one for padding."
   ]
  },
  {
   "cell_type": "code",
   "execution_count": 10,
   "metadata": {},
   "outputs": [],
   "source": [
    "# collect known word tokens and tags\n",
    "wordset, tagset = set(), set()\n",
    "train_instances = [(words, tags) for (words, tags) in read_conll_file('../data/tiny_POS_train.data')]\n",
    "for (words, tags) in train_instances:\n",
    "    tagset.update(set(tags))\n",
    "    wordset.update(set(words))\n",
    " \n",
    "# map words and tags into ints\n",
    "PAD = '-PAD-'\n",
    "UNK = '-UNK-'\n",
    "word2int = {word: i + 2 for i, word in enumerate(sorted(wordset))}\n",
    "word2int[PAD] = 0  # special token for padding\n",
    "word2int[UNK] = 1  # special token for unknown words\n",
    " \n",
    "tag2int = {tag: i + 1 for i, tag in enumerate(sorted(tagset))}\n",
    "tag2int[PAD] = 0\n",
    "# to translate it back\n",
    "int2tag = {i:tag for tag, i in tag2int.items()}\n",
    "\n",
    "\n",
    "def convert2ints(instances):\n",
    "    result = []\n",
    "    for (words, tags) in instances:\n",
    "        # replace words with int, 1 for unknown words\n",
    "        word_ints = [word2int.get(word, 1) for word in words]\n",
    "        # replace tags with int\n",
    "        tag_ints = [tag2int[tag] for tag in tags]\n",
    "        result.append((word_ints, tag_ints))\n",
    "    return result        "
   ]
  },
  {
   "cell_type": "markdown",
   "metadata": {},
   "source": [
    "Again, let's convert all our data first."
   ]
  },
  {
   "cell_type": "code",
   "execution_count": 11,
   "metadata": {},
   "outputs": [
    {
     "name": "stdout",
     "output_type": "stream",
     "text": [
      "['Showtime', 'is', 'a', 'distant', 'No.', '0', 'to', 'Home', 'Box', 'Office', ',', 'and', 'in', 'May', 'filed', 'a', '$', '0.0', 'billion', 'antitrust', 'suit', 'against', 'Time', 'Warner', ',', 'charging', 'the', 'company', 'and', 'its', 'HBO', 'and', 'American', 'Television', 'cable', 'units', 'with', 'conspiring', 'to', 'monopolize', 'the', 'pay', 'TV', 'business', '.']\n",
      "[1789, 4586, 2131, 3496, 1433, 25, 6898, 929, 331, 1472, 20, 2336, 4422, 1282, 3917, 2131, 3, 31, 2627, 2357, 6697, 2255, 1949, 2054, 20, 2878, 6829, 3000, 2336, 4594, 875, 2336, 175, 1917, 2780, 7069, 7309, 3104, 6898, 5051, 6829, 5413, 1899, 2755, 23]\n",
      "['NOUN', 'VERB', 'DET', 'ADJ', 'NOUN', 'NUM', 'ADP', 'NOUN', 'NOUN', 'NOUN', '.', 'CONJ', 'ADP', 'NOUN', 'VERB', 'DET', '.', 'NUM', 'NUM', 'ADJ', 'NOUN', 'ADP', 'NOUN', 'NOUN', '.', 'VERB', 'DET', 'NOUN', 'CONJ', 'PRON', 'NOUN', 'CONJ', 'NOUN', 'NOUN', 'NOUN', 'NOUN', 'ADP', 'VERB', 'PRT', 'VERB', 'DET', 'NOUN', 'NOUN', 'NOUN', '.']\n",
      "[7, 11, 6, 2, 7, 8, 3, 7, 7, 7, 1, 5, 3, 7, 11, 6, 1, 8, 8, 2, 7, 3, 7, 7, 1, 11, 6, 7, 5, 9, 7, 5, 7, 7, 7, 7, 3, 11, 10, 11, 6, 7, 7, 7, 1]\n"
     ]
    }
   ],
   "source": [
    "# get some test data\n",
    "test_instances = [(words, tags) for (words, tags) in read_conll_file('../data/tiny_POS_test.data')]\n",
    "\n",
    "# apply integer mapping\n",
    "train_instances_int = convert2ints(train_instances)\n",
    "test_instances_int = convert2ints(test_instances)\n",
    "\n",
    "# separate the words from the tags\n",
    "train_sentences, train_tags = zip(*train_instances_int) \n",
    "test_sentences, test_tags = zip(*test_instances_int) \n",
    "\n",
    "print(train_instances[0][0])\n",
    "print(train_sentences[0])\n",
    "print(train_instances[0][1])\n",
    "print(train_tags[0])"
   ]
  },
  {
   "cell_type": "markdown",
   "metadata": {},
   "source": [
    "Even though RNNs theoretically work for any length input, in practice, we need to make every sentence the same length. We choose the longest training sentence, add some extra, and then pad everything up to that length."
   ]
  },
  {
   "cell_type": "code",
   "execution_count": 12,
   "metadata": {},
   "outputs": [
    {
     "name": "stdout",
     "output_type": "stream",
     "text": [
      "87\n"
     ]
    }
   ],
   "source": [
    "# get longest training sentence and add 5\n",
    "MAX_LENGTH = len(max(train_sentences, key=len)) + 5\n",
    "print(MAX_LENGTH)\n"
   ]
  },
  {
   "cell_type": "markdown",
   "metadata": {
    "ExecuteTime": {
     "end_time": "2021-04-30T12:54:31.459789Z",
     "start_time": "2021-04-30T12:54:31.455780Z"
    },
    "slideshow": {
     "slide_type": "subslide"
    }
   },
   "source": [
    "`Keras` provides a function to do the padding for us:"
   ]
  },
  {
   "cell_type": "code",
   "execution_count": 13,
   "metadata": {},
   "outputs": [
    {
     "name": "stdout",
     "output_type": "stream",
     "text": [
      "[1789 4586 2131 3496 1433   25 6898  929  331 1472   20 2336 4422 1282\n",
      " 3917 2131    3   31 2627 2357 6697 2255 1949 2054   20 2878 6829 3000\n",
      " 2336 4594  875 2336  175 1917 2780 7069 7309 3104 6898 5051 6829 5413\n",
      " 1899 2755   23    0    0    0    0    0    0    0    0    0    0    0\n",
      "    0    0    0    0    0    0    0    0    0    0    0    0    0    0\n",
      "    0    0    0    0    0    0    0    0    0    0    0    0    0    0\n",
      "    0    0    0]\n",
      "[ 7 11  6  2  7  8  3  7  7  7  1  5  3  7 11  6  1  8  8  2  7  3  7  7\n",
      "  1 11  6  7  5  9  7  5  7  7  7  7  3 11 10 11  6  7  7  7  1  0  0  0\n",
      "  0  0  0  0  0  0  0  0  0  0  0  0  0  0  0  0  0  0  0  0  0  0  0  0\n",
      "  0  0  0  0  0  0  0  0  0  0  0  0  0  0  0]\n"
     ]
    }
   ],
   "source": [
    "from keras.preprocessing.sequence import pad_sequences\n",
    " \n",
    "# add special padding at the end of every instance, up to MAX_LENGTH\n",
    "train_sentences = pad_sequences(train_sentences, maxlen=MAX_LENGTH, padding='post')\n",
    "test_sentences = pad_sequences(test_sentences, maxlen=MAX_LENGTH, padding='post')\n",
    "train_tags = pad_sequences(train_tags, maxlen=MAX_LENGTH, padding='post')\n",
    "test_tags = pad_sequences(test_tags, maxlen=MAX_LENGTH, padding='post')\n",
    " \n",
    "print(train_sentences[0])\n",
    "print(train_tags[0])"
   ]
  },
  {
   "cell_type": "markdown",
   "metadata": {},
   "source": [
    "## Model\n",
    "\n",
    "We use the [functional API](https://keras.io/getting-started/functional-api-guide/) in `keras`. Each layer is a function, which takes as input the previous layer."
   ]
  },
  {
   "cell_type": "code",
   "execution_count": 14,
   "metadata": {},
   "outputs": [
    {
     "name": "stdout",
     "output_type": "stream",
     "text": [
      "Model: \"model_1\"\n",
      "_________________________________________________________________\n",
      "Layer (type)                 Output Shape              Param #   \n",
      "=================================================================\n",
      "word_IDs (InputLayer)        [(None, 87)]              0         \n",
      "_________________________________________________________________\n",
      "embeddings (Embedding)       (None, 87, 128)           945408    \n",
      "_________________________________________________________________\n",
      "LSTM (LSTM)                  (None, 87, 256)           394240    \n",
      "_________________________________________________________________\n",
      "dropout (Dropout)            (None, 87, 256)           0         \n",
      "_________________________________________________________________\n",
      "output (Dense)               (None, 87, 13)            3341      \n",
      "_________________________________________________________________\n",
      "softmax (Activation)         (None, 87, 13)            0         \n",
      "=================================================================\n",
      "Total params: 1,342,989\n",
      "Trainable params: 1,342,989\n",
      "Non-trainable params: 0\n",
      "_________________________________________________________________\n"
     ]
    }
   ],
   "source": [
    "from keras.models import Model\n",
    "from keras.layers import Input, Embedding\n",
    "from keras.layers import Bidirectional, LSTM\n",
    "from keras.layers import Dropout, Dense, Activation\n",
    "import numpy as np\n",
    "\n",
    "# Set a random seed for reproducibility\n",
    "np.random.seed(42)\n",
    "\n",
    "inputs = Input((MAX_LENGTH, ), \n",
    "               name='word_IDs')\n",
    "embeddings = Embedding(input_dim=len(word2int), \n",
    "                       output_dim=128, \n",
    "                       mask_zero=True, \n",
    "                       name='embeddings')(inputs)\n",
    "lstm = LSTM(units=256,\n",
    "              return_sequences=True,\n",
    "              name=\"LSTM\")(embeddings)\n",
    "dropout = Dropout(0.3, name='dropout')(lstm)\n",
    "lstm_out = Dense(len(tag2int), name='output')(dropout)\n",
    "output = Activation('softmax', name='softmax')(lstm_out)\n",
    "\n",
    "model = Model(inputs=[inputs], outputs=[output])\n",
    "model.summary()"
   ]
  },
  {
   "cell_type": "markdown",
   "metadata": {},
   "source": [
    "In order to read the tags, the model needs 1-hot encoding, i.e., a vector with one dimension for each tag, all of them 0, except the one dimension corresponding to the tag we have. Lucikly, there exists a utility function for it."
   ]
  },
  {
   "cell_type": "code",
   "execution_count": 15,
   "metadata": {},
   "outputs": [
    {
     "name": "stdout",
     "output_type": "stream",
     "text": [
      "[ 7 11  6  2  7  8  3  7  7  7  1  5  3  7 11  6  1  8  8  2  7  3  7  7\n",
      "  1 11  6  7  5  9  7  5  7  7  7  7  3 11 10 11  6  7  7  7  1  0  0  0\n",
      "  0  0  0  0  0  0  0  0  0  0  0  0  0  0  0  0  0  0  0  0  0  0  0  0\n",
      "  0  0  0  0  0  0  0  0  0  0  0  0  0  0  0]\n",
      "(87, 13)\n",
      "[[0. 0. 0. ... 0. 0. 0.]\n",
      " [0. 0. 0. ... 0. 1. 0.]\n",
      " [0. 0. 0. ... 0. 0. 0.]\n",
      " ...\n",
      " [1. 0. 0. ... 0. 0. 0.]\n",
      " [1. 0. 0. ... 0. 0. 0.]\n",
      " [1. 0. 0. ... 0. 0. 0.]]\n"
     ]
    }
   ],
   "source": [
    "from keras.utils import to_categorical\n",
    "\n",
    "train_tags_1hot = to_categorical(train_tags, len(tag2int))\n",
    "test_tags_1hot = to_categorical(test_tags, len(tag2int))\n",
    "\n",
    "# originally 50 tag IDs\n",
    "print(train_tags[0])\n",
    "# now 50 rows with 13 columns\n",
    "print(train_tags_1hot[0].shape)\n",
    "# the 1-hot encoding of tag ID 7\n",
    "print(train_tags_1hot[0])"
   ]
  },
  {
   "cell_type": "markdown",
   "metadata": {},
   "source": [
    "Now we can train the model"
   ]
  },
  {
   "cell_type": "code",
   "execution_count": 16,
   "metadata": {},
   "outputs": [
    {
     "name": "stdout",
     "output_type": "stream",
     "text": [
      "Epoch 1/5\n",
      "101/101 [==============================] - 31s 272ms/step - loss: 0.5829 - accuracy: 0.3257 - val_loss: 0.2447 - val_accuracy: 0.7486\n",
      "Epoch 2/5\n",
      "101/101 [==============================] - 23s 223ms/step - loss: 0.1670 - accuracy: 0.8156 - val_loss: 0.0953 - val_accuracy: 0.9055\n",
      "Epoch 3/5\n",
      "101/101 [==============================] - 25s 243ms/step - loss: 0.0494 - accuracy: 0.9522 - val_loss: 0.0738 - val_accuracy: 0.9253\n",
      "Epoch 4/5\n",
      "101/101 [==============================] - 25s 247ms/step - loss: 0.0282 - accuracy: 0.9701 - val_loss: 0.0724 - val_accuracy: 0.9206\n",
      "Epoch 5/5\n",
      "101/101 [==============================] - 26s 258ms/step - loss: 0.0194 - accuracy: 0.9797 - val_loss: 0.0703 - val_accuracy: 0.9293\n"
     ]
    }
   ],
   "source": [
    "batch_size = 16\n",
    "epochs = 5\n",
    "\n",
    "# compile the model we have defined above\n",
    "model.compile(loss='categorical_crossentropy',\n",
    "              optimizer='adam',\n",
    "              metrics=['accuracy']\n",
    "             )\n",
    "\n",
    "# run training and capture ouput log\n",
    "history = model.fit(train_sentences, train_tags_1hot,\n",
    "                    batch_size=batch_size,\n",
    "                    epochs=epochs,\n",
    "                    verbose=1,\n",
    "                    validation_split=0.2)"
   ]
  },
  {
   "cell_type": "markdown",
   "metadata": {},
   "source": [
    "We can plot the performance on training and dev set"
   ]
  },
  {
   "cell_type": "code",
   "execution_count": 17,
   "metadata": {},
   "outputs": [
    {
     "data": {
      "image/png": "[encoded data removed]",
      "text/plain": [
       "<Figure size 432x288 with 1 Axes>"
      ]
     },
     "metadata": {
      "needs_background": "light"
     },
     "output_type": "display_data"
    },
    {
     "data": {
      "image/png": "[encoded data removed]",
      "text/plain": [
       "<Figure size 432x288 with 1 Axes>"
      ]
     },
     "metadata": {
      "needs_background": "light"
     },
     "output_type": "display_data"
    }
   ],
   "source": [
    "%matplotlib inline\n",
    "import pandas as pd\n",
    "import seaborn\n",
    "\n",
    "df = pd.DataFrame(history.history)\n",
    "df[['val_accuracy', 'accuracy']].plot.line();\n",
    "df[['val_loss', 'loss']].plot.line();"
   ]
  },
  {
   "cell_type": "markdown",
   "metadata": {
    "slideshow": {
     "slide_type": "subslide"
    }
   },
   "source": [
    "Let's see how well we do on the test set"
   ]
  },
  {
   "cell_type": "code",
   "execution_count": 18,
   "metadata": {},
   "outputs": [
    {
     "name": "stdout",
     "output_type": "stream",
     "text": [
      "13/13 [==============================] - 1s 41ms/step - loss: 0.0951 - accuracy: 0.9050\n",
      "Test loss: 0.09511490911245346\n",
      "Test accuracy: 0.9049999713897705\n"
     ]
    }
   ],
   "source": [
    "loss, accuracy = model.evaluate(test_sentences, test_tags_1hot,\n",
    "                       batch_size=batch_size, verbose=1)\n",
    "print('Test loss:', loss)\n",
    "print('Test accuracy:', accuracy)"
   ]
  },
  {
   "cell_type": "markdown",
   "metadata": {
    "slideshow": {
     "slide_type": "subslide"
    }
   },
   "source": [
    "Not too bad! Let's see how well it does with sentences that have ambiguous words:"
   ]
  },
  {
   "cell_type": "code",
   "execution_count": 19,
   "metadata": {},
   "outputs": [
    {
     "name": "stdout",
     "output_type": "stream",
     "text": [
      "[[[3.4372021e-02 7.0667895e-03 9.2855066e-02 ... 5.8850396e-02\n",
      "   6.3436605e-02 4.2425331e-02]\n",
      "  [4.8956904e-04 3.6089006e-03 2.4904180e-02 ... 1.7874573e-03\n",
      "   4.8109428e-03 1.2144310e-03]\n",
      "  [5.1019771e-07 1.2763005e-04 4.8862741e-04 ... 3.4381770e-05\n",
      "   1.3234728e-02 3.2752405e-06]\n",
      "  ...\n",
      "  [1.7594310e-07 5.0916383e-06 1.2509468e-04 ... 1.2930982e-04\n",
      "   9.9856395e-01 2.3300681e-06]\n",
      "  [1.7594310e-07 5.0916383e-06 1.2509468e-04 ... 1.2930982e-04\n",
      "   9.9856395e-01 2.3300681e-06]\n",
      "  [1.7594310e-07 5.0916383e-06 1.2509468e-04 ... 1.2930982e-04\n",
      "   9.9856395e-01 2.3300681e-06]]\n",
      "\n",
      " [[4.7765739e-02 8.7999962e-02 7.7087641e-02 ... 6.7137063e-02\n",
      "   1.0599693e-01 5.3046301e-02]\n",
      "  [2.5623292e-04 6.9081422e-04 1.4209121e-03 ... 1.7836174e-03\n",
      "   9.8076469e-01 6.4268697e-04]\n",
      "  [4.5515881e-06 3.6908808e-08 2.8017478e-03 ... 1.0999801e-04\n",
      "   1.2535331e-03 3.1995587e-05]\n",
      "  ...\n",
      "  [6.1823023e-08 1.3275689e-04 1.1137468e-03 ... 9.1994189e-06\n",
      "   3.1660256e-05 3.6818631e-07]\n",
      "  [6.1823023e-08 1.3275689e-04 1.1137468e-03 ... 9.1994189e-06\n",
      "   3.1660256e-05 3.6818631e-07]\n",
      "  [6.1823023e-08 1.3275689e-04 1.1137468e-03 ... 9.1994179e-06\n",
      "   3.1660256e-05 3.6818631e-07]]] (2, 87, 13)\n"
     ]
    }
   ],
   "source": [
    "strange_sentences = ['Their management plan reforms worked'.split(),\n",
    "                     \"Attack was their best option\".split()\n",
    "                    ]\n",
    "# convert to integers\n",
    "strange_sentences_int = [[word2int.get(word, 1) for word in sentence] for sentence in strange_sentences]\n",
    "# add padding\n",
    "strange_sentences_int = pad_sequences(strange_sentences_int, maxlen=MAX_LENGTH, padding='post')\n",
    "\n",
    "predictions = model.predict(strange_sentences_int)\n",
    "print(predictions, predictions.shape)"
   ]
  },
  {
   "cell_type": "markdown",
   "metadata": {
    "slideshow": {
     "slide_type": "subslide"
    }
   },
   "source": [
    "Note some things:\n",
    "1. The output for each word is a probability distribtion over tags. Nice if we want it, but here, we are actually more interested in the one **best** tag for each token.\n",
    "2. the tags are the integer IDs, so we need to translate them back\n",
    "3. because we padded, the last item just gets repeated\n",
    "    \n",
    "We need to fix those before we have useful output:"
   ]
  },
  {
   "cell_type": "code",
   "execution_count": 20,
   "metadata": {},
   "outputs": [
    {
     "name": "stdout",
     "output_type": "stream",
     "text": [
      "[(['Their', 'management', 'plan', 'reforms', 'worked'], ['PRON', 'NOUN', 'NOUN', 'NOUN', 'VERB']), (['Attack', 'was', 'their', 'best', 'option'], ['NOUN', 'VERB', 'PRON', 'ADJ', 'NOUN'])]\n"
     ]
    }
   ],
   "source": [
    "def inverse_transform(sentences, predictions):\n",
    "    output = []\n",
    "    for sentence, prediction in zip(sentences, predictions):\n",
    "        # find the index of the highest-scoring tag and translate it back\n",
    "        token_sequence = [int2tag[np.argmax(prediction[i])] for i in range(len(sentence))]\n",
    "        output.append(token_sequence)\n",
    "    return output\n",
    "\n",
    "print(list(zip(strange_sentences, inverse_transform(strange_sentences, predictions))))"
   ]
  },
  {
   "cell_type": "markdown",
   "metadata": {},
   "source": [
    "Looks ok! Let's see what we get if we process the sentence from both ends."
   ]
  },
  {
   "cell_type": "markdown",
   "metadata": {},
   "source": [
    "## Bi-LSTM"
   ]
  },
  {
   "cell_type": "code",
   "execution_count": 21,
   "metadata": {},
   "outputs": [
    {
     "name": "stdout",
     "output_type": "stream",
     "text": [
      "Model: \"model_2\"\n",
      "_________________________________________________________________\n",
      "Layer (type)                 Output Shape              Param #   \n",
      "=================================================================\n",
      "word_IDs (InputLayer)        [(None, 87)]              0         \n",
      "_________________________________________________________________\n",
      "embeddings (Embedding)       (None, 87, 128)           945408    \n",
      "_________________________________________________________________\n",
      "Bi-LSTM (Bidirectional)      (None, 87, 512)           788480    \n",
      "_________________________________________________________________\n",
      "dropout (Dropout)            (None, 87, 512)           0         \n",
      "_________________________________________________________________\n",
      "output (Dense)               (None, 87, 13)            6669      \n",
      "_________________________________________________________________\n",
      "softmax (Activation)         (None, 87, 13)            0         \n",
      "=================================================================\n",
      "Total params: 1,740,557\n",
      "Trainable params: 1,740,557\n",
      "Non-trainable params: 0\n",
      "_________________________________________________________________\n"
     ]
    }
   ],
   "source": [
    "from keras.layers import Bidirectional\n",
    "\n",
    "# Set a random seed for reproducibility\n",
    "np.random.seed(42)\n",
    "\n",
    "inputs = Input((MAX_LENGTH, ), \n",
    "               name='word_IDs')\n",
    "embeddings = Embedding(input_dim=len(word2int), \n",
    "                       output_dim=128, \n",
    "                       mask_zero=True, \n",
    "                       name='embeddings')(inputs)\n",
    "#wrap the LSTM in a Bidirectional wrapper\n",
    "bilstm = Bidirectional(LSTM(units=256, \n",
    "                            return_sequences=True), \n",
    "                       name=\"Bi-LSTM\")(embeddings)\n",
    "dropout = Dropout(0.3, name='dropout')(bilstm)\n",
    "bilstm_out = Dense(len(tag2int), name='output')(dropout)\n",
    "output = Activation('softmax', name='softmax')(bilstm_out)\n",
    "\n",
    "model_bilstm = Model(inputs=[inputs], outputs=[output])\n",
    "model_bilstm.summary()"
   ]
  },
  {
   "cell_type": "markdown",
   "metadata": {},
   "source": [
    "We just added a casual 400k parameters to our model!"
   ]
  },
  {
   "cell_type": "code",
   "execution_count": 22,
   "metadata": {},
   "outputs": [
    {
     "name": "stdout",
     "output_type": "stream",
     "text": [
      "Epoch 1/5\n",
      "101/101 [==============================] - 69s 620ms/step - loss: 0.5731 - accuracy: 0.3460 - val_loss: 0.1986 - val_accuracy: 0.7634\n",
      "Epoch 2/5\n",
      "101/101 [==============================] - 50s 497ms/step - loss: 0.1232 - accuracy: 0.8611 - val_loss: 0.0688 - val_accuracy: 0.9296\n",
      "Epoch 3/5\n",
      "101/101 [==============================] - 51s 507ms/step - loss: 0.0316 - accuracy: 0.9685 - val_loss: 0.0608 - val_accuracy: 0.9340\n",
      "Epoch 4/5\n",
      "101/101 [==============================] - 50s 493ms/step - loss: 0.0164 - accuracy: 0.9829 - val_loss: 0.0574 - val_accuracy: 0.9414\n",
      "Epoch 5/5\n",
      "101/101 [==============================] - 49s 481ms/step - loss: 0.0115 - accuracy: 0.9885 - val_loss: 0.0638 - val_accuracy: 0.9338\n"
     ]
    },
    {
     "data": {
      "image/png": "[encoded data removed]",
      "text/plain": [
       "<Figure size 432x288 with 1 Axes>"
      ]
     },
     "metadata": {
      "needs_background": "light"
     },
     "output_type": "display_data"
    },
    {
     "data": {
      "image/png": "[encoded data removed]",
      "text/plain": [
       "<Figure size 432x288 with 1 Axes>"
      ]
     },
     "metadata": {
      "needs_background": "light"
     },
     "output_type": "display_data"
    }
   ],
   "source": [
    "batch_size = 16\n",
    "epochs = 5\n",
    "\n",
    "model_bilstm.compile(loss='categorical_crossentropy',\n",
    "              optimizer='adam',\n",
    "              metrics=['accuracy']\n",
    "             )\n",
    "\n",
    "history_bilstm = model_bilstm.fit(train_sentences, train_tags_1hot,\n",
    "                    batch_size=batch_size,\n",
    "                    epochs=epochs,\n",
    "                    verbose=1,\n",
    "                    validation_split=0.2)\n",
    "\n",
    "df = pd.DataFrame(history_bilstm.history)\n",
    "df[['val_accuracy', 'accuracy']].plot.line();\n",
    "df[['val_loss', 'loss']].plot.line();"
   ]
  },
  {
   "cell_type": "code",
   "execution_count": 23,
   "metadata": {},
   "outputs": [
    {
     "name": "stdout",
     "output_type": "stream",
     "text": [
      "13/13 [==============================] - 1s 99ms/step - loss: 0.0832 - accuracy: 0.9158\n",
      "Test loss: 0.08321350067853928\n",
      "Test accuracy: 0.9158333539962769\n"
     ]
    }
   ],
   "source": [
    "loss, accuracy = model_bilstm.evaluate(test_sentences, test_tags_1hot,\n",
    "                       batch_size=batch_size, verbose=1)\n",
    "print('Test loss:', loss)\n",
    "print('Test accuracy:', accuracy)"
   ]
  },
  {
   "cell_type": "markdown",
   "metadata": {},
   "source": [
    "We are getting better on the test data, what about the confusing sentences?"
   ]
  },
  {
   "cell_type": "code",
   "execution_count": 24,
   "metadata": {},
   "outputs": [
    {
     "name": "stdout",
     "output_type": "stream",
     "text": [
      "[(['Their', 'management', 'plan', 'reforms', 'worked'], ['PRON', 'NOUN', 'NOUN', 'VERB', 'VERB']), (['Attack', 'was', 'their', 'best', 'option'], ['VERB', 'VERB', 'PRON', 'ADJ', 'NOUN'])]\n"
     ]
    }
   ],
   "source": [
    "predictions_bilstm = model_bilstm.predict(strange_sentences_int)\n",
    "print(list(zip(strange_sentences, inverse_transform(strange_sentences, predictions_bilstm))))"
   ]
  },
  {
   "cell_type": "markdown",
   "metadata": {},
   "source": [
    "Not so much. We probably need a lot more data to prevent overfitting."
   ]
  },
  {
   "cell_type": "markdown",
   "metadata": {
    "slideshow": {
     "slide_type": "slide"
    }
   },
   "source": [
    "## Sequential API Model\n",
    "\n",
    "When you google for more details, you might come across the **Sequential API** (because we sequentially add layers, not because this is a sequence model). It does the same thing as the functional API, but in a different way. It is less flexible than the functional API we have been using, though."
   ]
  },
  {
   "cell_type": "code",
   "execution_count": 25,
   "metadata": {},
   "outputs": [
    {
     "name": "stdout",
     "output_type": "stream",
     "text": [
      "Model: \"sequential\"\n",
      "_________________________________________________________________\n",
      "Layer (type)                 Output Shape              Param #   \n",
      "=================================================================\n",
      "embeddings (Embedding)       (None, 87, 128)           945408    \n",
      "_________________________________________________________________\n",
      "bi-LSTM (Bidirectional)      (None, 87, 512)           788480    \n",
      "_________________________________________________________________\n",
      "dropout (Dropout)            (None, 87, 512)           0         \n",
      "_________________________________________________________________\n",
      "output (Dense)               (None, 87, 13)            6669      \n",
      "_________________________________________________________________\n",
      "softmax (Activation)         (None, 87, 13)            0         \n",
      "=================================================================\n",
      "Total params: 1,740,557\n",
      "Trainable params: 1,740,557\n",
      "Non-trainable params: 0\n",
      "_________________________________________________________________\n"
     ]
    }
   ],
   "source": [
    "from keras.models import Sequential\n",
    "from keras.layers import InputLayer\n",
    "np.random.seed(42)\n",
    "\n",
    "model_seq = Sequential()\n",
    "model_seq.add(InputLayer(input_shape=(MAX_LENGTH, ), name=\"word_IDs\"))\n",
    "model_seq.add(Embedding(len(word2int), 128, mask_zero=True, name='embeddings'))\n",
    "model_seq.add(Bidirectional(LSTM(256, return_sequences=True), name='bi-LSTM'))\n",
    "model_seq.add(Dropout(0.3, name='dropout'))\n",
    "model_seq.add(Dense(len(tag2int), name='output'))\n",
    "model_seq.add(Activation('softmax', name='softmax'))\n",
    "model_seq.summary()"
   ]
  },
  {
   "cell_type": "code",
   "execution_count": 26,
   "metadata": {},
   "outputs": [
    {
     "name": "stdout",
     "output_type": "stream",
     "text": [
      "Epoch 1/5\n",
      "51/51 [==============================] - 42s 686ms/step - loss: 0.6257 - accuracy: 0.2856 - val_loss: 0.5156 - val_accuracy: 0.4223\n",
      "Epoch 2/5\n",
      "51/51 [==============================] - 37s 722ms/step - loss: 0.4044 - accuracy: 0.5581 - val_loss: 0.1716 - val_accuracy: 0.7988\n",
      "Epoch 3/5\n",
      "51/51 [==============================] - 36s 714ms/step - loss: 0.1170 - accuracy: 0.8726 - val_loss: 0.0782 - val_accuracy: 0.9195\n",
      "Epoch 4/5\n",
      "51/51 [==============================] - 35s 688ms/step - loss: 0.0372 - accuracy: 0.9650 - val_loss: 0.0673 - val_accuracy: 0.9272\n",
      "Epoch 5/5\n",
      "51/51 [==============================] - 45s 878ms/step - loss: 0.0210 - accuracy: 0.9803 - val_loss: 0.0616 - val_accuracy: 0.9341\n"
     ]
    }
   ],
   "source": [
    "batch_size = 32\n",
    "epochs = 5\n",
    "\n",
    "model_seq.compile(loss='categorical_crossentropy',\n",
    "              optimizer='adam',\n",
    "              metrics=['accuracy'])\n",
    "\n",
    "history = model_seq.fit(train_sentences, train_tags_1hot,\n",
    "                    batch_size=batch_size,\n",
    "                    epochs=epochs,\n",
    "                    verbose=1,\n",
    "                    validation_split=0.2)"
   ]
  },
  {
   "cell_type": "code",
   "execution_count": 27,
   "metadata": {},
   "outputs": [
    {
     "name": "stdout",
     "output_type": "stream",
     "text": [
      "7/7 [==============================] - 1s 197ms/step - loss: 0.0808 - accuracy: 0.9112\n",
      "Test loss: 0.08077908307313919\n",
      "Test accuracy: 0.9112499952316284\n"
     ]
    }
   ],
   "source": [
    "loss, accuracy = model_seq.evaluate(test_sentences, test_tags_1hot,\n",
    "                       batch_size=batch_size, verbose=1)\n",
    "print('Test loss:', loss)\n",
    "print('Test accuracy:', accuracy)"
   ]
  },
  {
   "cell_type": "markdown",
   "metadata": {},
   "source": [
    "The sequential model does have a convenience function, though, `predict_classes()`, which we can use to get the tatg IDs. This changes our inverse transformation a bit, since we no longer need the argmax."
   ]
  },
  {
   "cell_type": "code",
   "execution_count": 28,
   "metadata": {},
   "outputs": [
    {
     "name": "stderr",
     "output_type": "stream",
     "text": [
      "/opt/anaconda3/lib/python3.8/site-packages/tensorflow/python/keras/engine/sequential.py:450: UserWarning: `model.predict_classes()` is deprecated and will be removed after 2021-01-01. Please use instead:* `np.argmax(model.predict(x), axis=-1)`,   if your model does multi-class classification   (e.g. if it uses a `softmax` last-layer activation).* `(model.predict(x) > 0.5).astype(\"int32\")`,   if your model does binary classification   (e.g. if it uses a `sigmoid` last-layer activation).\n",
      "  warnings.warn('`model.predict_classes()` is deprecated and '\n"
     ]
    },
    {
     "name": "stdout",
     "output_type": "stream",
     "text": [
      "['Their', 'management', 'plan', 'reforms', 'worked'] ['PRON', 'NOUN', 'NOUN', 'NOUN', 'VERB']\n",
      "['Attack', 'was', 'their', 'best', 'option'] ['VERB', 'VERB', 'PRON', 'ADJ', 'NOUN']\n"
     ]
    }
   ],
   "source": [
    "predictions_seq = model_seq.predict_classes(strange_sentences_int)\n",
    "for sentence, prediction in zip(strange_sentences, predictions_seq):\n",
    "    pred_ = [int2tag[prediction[i]] for i in range(len(sentence))]\n",
    "    print(sentence, pred_)\n"
   ]
  },
  {
   "cell_type": "code",
   "execution_count": null,
   "metadata": {},
   "outputs": [],
   "source": []
  }
 ],
 "metadata": {
  "celltoolbar": "Slideshow",
  "kernelspec": {
   "display_name": "Python 3",
   "language": "python",
   "name": "python3"
  },
  "language_info": {
   "codemirror_mode": {
    "name": "ipython",
    "version": 3
   },
   "file_extension": ".py",
   "mimetype": "text/x-python",
   "name": "python",
   "nbconvert_exporter": "python",
   "pygments_lexer": "ipython3",
   "version": "3.8.3"
  }
 },
 "nbformat": 4,
 "nbformat_minor": 1
}
