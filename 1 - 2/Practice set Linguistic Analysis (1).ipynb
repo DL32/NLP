{
 "cells": [
  {
   "cell_type": "markdown",
   "metadata": {
    "slideshow": {
     "slide_type": "subslide"
    }
   },
   "source": [
    "### Exercise\n",
    "\n",
    "Collect counts over the tokens. What is the most frequent token?"
   ]
  },
  {
   "cell_type": "code",
   "execution_count": 18,
   "metadata": {},
   "outputs": [
    {
     "name": "stdout",
     "output_type": "stream",
     "text": [
      "[(',', 18947), ('the', 13527), ('.', 7183)]\n"
     ]
    }
   ],
   "source": [
    "\n",
    "import spacy\n",
    "\n",
    "nlp = spacy.load('en_core_web_sm')\n",
    "\n",
    "from collections import Counter\n",
    "\n",
    "documents=[line.strip() for line in open ('Moby Dick.txt', encoding='utf8').readlines()]\n",
    "\n",
    "\n",
    "tokens = [token.text for sentence in documents for token in nlp(sentence)]\n",
    "\n",
    "print(Counter(tokens).most_common(3))"
   ]
  },
  {
   "cell_type": "code",
   "execution_count": null,
   "metadata": {},
   "outputs": [],
   "source": [
    "?Counter"
   ]
  },
  {
   "cell_type": "markdown",
   "metadata": {
    "slideshow": {
     "slide_type": "subslide"
    }
   },
   "source": [
    "### Exercise\n",
    "Right now, the lemmas of all pronouns are collapsed into `-PRON-`. Change the code to preserve the original word (as lower case)."
   ]
  },
  {
   "cell_type": "code",
   "execution_count": 20,
   "metadata": {},
   "outputs": [
    {
     "name": "stdout",
     "output_type": "stream",
     "text": [
      "[['looming', '.'], ['call', 'I', 'Ishmael', '.'], ['some', 'year', 'ago', '--', 'never', 'mind', 'how', 'long', 'precisely', '--', 'have', 'little', 'or', 'no', 'money', 'in', 'my', 'purse', ',', 'and', 'nothing', 'particular', 'to', 'interest', 'I', 'on', 'shore', ',', 'I', 'think', 'I', 'would', 'sail', 'about', 'a', 'little', 'and', 'see', 'the', 'watery', 'part', 'of', 'the', 'world', '.'], ['it', 'be', 'a', 'way', 'I', 'have', 'of', 'drive', 'off', 'the', 'spleen', 'and', 'regulate', 'the', 'circulation', '.'], ['whenever', 'I', 'find', 'myself', 'grow', 'grim', 'about', 'the', 'mouth', ';', 'whenever', 'it', 'be', 'a', 'damp', ',', 'drizzly', 'November', 'in', 'my', 'soul', ';', 'whenever', 'I', 'find', 'myself', 'involuntarily', 'pause', 'before', 'coffin', 'warehouse', ',', 'and', 'bring', 'up', 'the', 'rear', 'of', 'every', 'funeral', 'I', 'meet', ';', 'and', 'especially', 'whenever', 'my', 'hypos', 'get', 'such', 'an', 'upper', 'hand', 'of', 'I', ',', 'that', 'it', 'require', 'a', 'strong', 'moral', 'principle', 'to', 'prevent', 'I', 'from', 'deliberately', 'step', 'into', 'the', 'street', ',', 'and', 'methodically', 'knock', 'people', \"'\", 's', 'hat', 'off', '--', 'then', ',', 'I', 'account', 'it', 'high', 'time', 'to', 'get', 'to', 'sea', 'as', 'soon', 'as', 'I', 'can', '.'], ['this', 'be', 'my', 'substitute', 'for', 'pistol', 'and', 'ball', '.'], ['with', 'a', 'philosophical', 'flourish', 'Cato', 'throw', 'himself', 'upon', 'his', 'sword', ';', 'I', 'quietly', 'take', 'to', 'the', 'ship', '.'], ['there', 'be', 'nothing', 'surprising', 'in', 'this', '.'], ['if', 'they', 'but', 'know', 'it', ',', 'almost', 'all', 'man', 'in', 'their', 'degree', ',', 'some', 'time', 'or', 'other', ',', 'cherish', 'very', 'nearly', 'the', 'same', 'feeling', 'towards', 'the', 'ocean', 'with', 'I', '.'], ['there', 'now', 'be', 'your', 'insular', 'city', 'of', 'the', 'Manhattoes', ',', 'belt', 'round', 'by', 'wharf', 'as', 'indian', 'isle', 'by', 'coral', 'reef', '--', 'commerce', 'surround', 'it', 'with', 'her', 'surf', '.'], ['right', 'and', 'leave', ',', 'the', 'street', 'take', 'you', 'waterward', '.'], ['its', 'extreme', 'downtown', 'be', 'the', 'battery', ',', 'where', 'that', 'noble', 'mole', 'be', 'wash', 'by', 'wave', ',', 'and', 'cool', 'by', 'breeze', ',', 'which', 'a', 'few', 'hour', 'previous', 'be', 'out', 'of', 'sight', 'of', 'land', '.'], ['look', 'at', 'the', 'crowd', 'of', 'water', '-', 'gazer', 'there', '.'], ['circumambulate', 'the', 'city', 'of', 'a', 'dreamy', 'Sabbath', 'afternoon', '.'], ['go', 'from', 'Corlears', 'Hook', 'to', 'Coenties', 'Slip', ',', 'and', 'from', 'thence', ',', 'by', 'Whitehall', ',', 'northward', '.'], ['what', 'do', 'you', 'see', '?', '--', 'post', 'like', 'silent', 'sentinel', 'all', 'around', 'the', 'town', ',', 'stand', 'thousand', 'upon', 'thousand', 'of', 'mortal', 'man', 'fix', 'in', 'ocean', 'reverie', '.'], ['some', 'lean', 'against', 'the', 'spile', ';', 'some', 'seat', 'upon', 'the', 'pier', '-', 'head', ';', 'some', 'look', 'over', 'the', 'bulwark', 'of', 'ship', 'from', 'China', ';', 'some', 'high', 'aloft', 'in', 'the', 'rigging', ',', 'as', 'if', 'strive', 'to', 'get', 'a', 'still', 'well', 'seaward', 'peep', '.'], ['but', 'these', 'be', 'all', 'landsman', ';', 'of', 'week', 'day', 'pen', 'up', 'in', 'lath', 'and', 'plaster', '--', 'tie', 'to', 'counter', ',', 'nail', 'to', 'bench', ',', 'clinch', 'to', 'desk', '.'], ['how', 'then', 'be', 'this', '?'], ['be', 'the', 'green', 'field', 'go', '?'], ['what', 'do', 'they', 'here', '?'], ['but', 'look', '!'], ['here', 'come', 'more', 'crowd', ',', 'pace', 'straight', 'for', 'the', 'water', ',', 'and', 'seemingly', 'bind', 'for', 'a', 'dive', '.'], ['strange', '!'], ['nothing', 'will', 'content', 'they', 'but', 'the', 'extreme', 'limit', 'of', 'the', 'land', ';', 'loitering', 'under', 'the', 'shady', 'lee', 'of', 'yonder', 'warehouse', 'will', 'not', 'suffice', '.'], ['no', '.'], ['they', 'must', 'get', 'just', 'as', 'nigh', 'the', 'water', 'as', 'they', 'possibly', 'can', 'without', 'fall', 'in', '.'], ['and', 'there', 'they', 'stand', '--', 'mile', 'of', 'they', '--', 'league', '.'], ['inlander', 'all', ',', 'they', 'come', 'from', 'lane', 'and', 'alley', ',', 'street', 'and', 'avenue', '--', 'north', ',', 'east', ',', 'south', ',', 'and', 'west', '.'], ['yet', 'here', 'they', 'all', 'unite', '.'], ['tell', 'I', ',', 'do', 'the', 'magnetic', 'virtue', 'of', 'the', 'needle', 'of', 'the', 'compass', 'of', 'all', 'those', 'ship', 'attract', 'they', 'thither', '?'], ['once', 'more', '.'], ['say', 'you', 'be', 'in', 'the', 'country', ';', 'in', 'some', 'high', 'land', 'of', 'lake', '.'], ['take', 'almost', 'any', 'path', 'you', 'please', ',', 'and', 'ten', 'to', 'one', 'it', 'carry', 'you', 'down', 'in', 'a', 'dale', ',', 'and', 'leave', 'you', 'there', 'by', 'a', 'pool', 'in', 'the', 'stream', '.'], ['there', 'be', 'magic', 'in', 'it', '.'], ['let', 'the', 'most', 'absent', '-', 'minded', 'of', 'man', 'be', 'plunge', 'in', 'his', 'deep', 'reverie', '--', 'stand', 'that', 'man', 'on', 'his', 'leg', ',', 'set', 'his', 'foot', 'a', '-', 'going', ',', 'and', 'he', 'will', 'infallibly', 'lead', 'you', 'to', 'water', ',', 'if', 'water', 'there', 'be', 'in', 'all', 'that', 'region', '.'], ['should', 'you', 'ever', 'be', 'athirst', 'in', 'the', 'great', 'american', 'desert', ',', 'try', 'this', 'experiment', ',', 'if', 'your', 'caravan', 'happen', 'to', 'be', 'supply', 'with', 'a', 'metaphysical', 'professor', '.'], ['yes', ',', 'as', 'every', 'one', 'know', ',', 'meditation', 'and', 'water', 'be', 'wed', 'for', 'ever', '.'], ['but', 'here', 'be', 'an', 'artist', '.'], ['he', 'desire', 'to', 'paint', 'you', 'the', 'dreamy', ',', 'shady', ',', 'quiet', ',', 'most', 'enchanting', 'bit', 'of', 'romantic', 'landscape', 'in', 'all', 'the', 'valley', 'of', 'the', 'Saco', '.'], ['what', 'be', 'the', 'chief', 'element', 'he', 'employ', '?'], ['there', 'stand', 'his', 'tree', ',', 'each', 'with', 'a', 'hollow', 'trunk', ',', 'as', 'if', 'a', 'hermit', 'and', 'a', 'crucifix', 'be', 'within', ';', 'and', 'here', 'sleep', 'his', 'meadow', ',', 'and', 'there', 'sleep', 'his', 'cattle', ';', 'and', 'up', 'from', 'yonder', 'cottage', 'go', 'a', 'sleepy', 'smoke', '.'], ['deep', 'into', 'distant', 'woodland', 'wind', 'a', 'mazy', 'way', ',', 'reach', 'to', 'overlap', 'spur', 'of', 'mountain', 'bathe', 'in', 'their', 'hill', '-', 'side', 'blue', '.'], ['but', 'though', 'the', 'picture', 'lie', 'thus', 'trance', ',', 'and', 'though', 'this', 'pine', '-', 'tree', 'shake', 'down', 'its', 'sigh', 'like', 'leave', 'upon', 'this', 'shepherd', \"'\", 's', 'head', ',', 'yet', 'all', 'be', 'vain', ',', 'unless', 'the', 'shepherd', \"'\", 's', 'eye', 'be', 'fix', 'upon', 'the', 'magic', 'stream', 'before', 'he', '.'], ['go', 'visit', 'the', 'Prairies', 'in', 'June', ',', 'when', 'for', 'score', 'on', 'score', 'of', 'mile', 'you', 'wade', 'knee', '-', 'deep', 'among', 'Tiger', '-', 'lily', '--', 'what', 'be', 'the', 'one', 'charm', 'wanting', '?', '--', 'water', '--', 'there', 'be', 'not', 'a', 'drop', 'of', 'water', 'there', '!'], ['be', 'Niagara', 'but', 'a', 'cataract', 'of', 'sand', ',', 'would', 'you', 'travel', 'your', 'thousand', 'mile', 'to', 'see', 'it', '?'], ['why', 'do', 'the', 'poor', 'poet', 'of', 'Tennessee', ',', 'upon', 'suddenly', 'receive', 'two', 'handful', 'of', 'silver', ',', 'deliberate', 'whether', 'to', 'buy', 'he', 'a', 'coat', ',', 'which', 'he', 'sadly', 'need', ',', 'or', 'invest', 'his', 'money', 'in', 'a', 'pedestrian', 'trip', 'to', 'Rockaway', 'Beach', '?'], ['why', 'be', 'almost', 'every', 'robust', 'healthy', 'boy', 'with', 'a', 'robust', 'healthy', 'soul', 'in', 'he', ',', 'at', 'some', 'time', 'or', 'other', 'crazy', 'to', 'go', 'to', 'sea', '?'], ['why', 'upon', 'your', 'first', 'voyage', 'as', 'a', 'passenger', ',', 'do', 'you', 'yourself', 'feel', 'such', 'a', 'mystical', 'vibration', ',', 'when', 'first', 'tell', 'that', 'you', 'and', 'your', 'ship', 'be', 'now', 'out', 'of', 'sight', 'of', 'land', '?'], ['why', 'do', 'the', 'old', 'Persians', 'hold', 'the', 'sea', 'holy', '?'], ['why', 'do', 'the', 'Greeks', 'give', 'it', 'a', 'separate', 'deity', ',', 'and', 'own', 'brother', 'of', 'Jove', '?'], ['surely', 'all', 'this', 'be', 'not', 'without', 'meaning', '.'], ['and', 'still', 'deep', 'the', 'meaning', 'of', 'that', 'story', 'of', 'Narcissus', ',', 'who', 'because', 'he', 'could', 'not', 'grasp', 'the', 'tormenting', ',', 'mild', 'image', 'he', 'see', 'in', 'the', 'fountain', ',', 'plunge', 'into', 'it', 'and', 'be', 'drown', '.'], ['but', 'that', 'same', 'image', ',', 'we', 'ourselves', 'see', 'in', 'all', 'river', 'and', 'ocean', '.'], ['it', 'be', 'the', 'image', 'of', 'the', 'ungraspable', 'phantom', 'of', 'life', ';', 'and', 'this', 'be', 'the', 'key', 'to', 'it', 'all', '.'], ['now', ',', 'when', 'I', 'say', 'that', 'I', 'be', 'in', 'the', 'habit', 'of', 'go', 'to', 'sea', 'whenever', 'I', 'begin', 'to', 'grow', 'hazy', 'about', 'the', 'eye', ',', 'and', 'begin', 'to', 'be', 'over', 'conscious', 'of', 'my', 'lung', ',', 'I', 'do', 'not', 'mean', 'to', 'have', 'it', 'infer', 'that', 'I', 'ever', 'go', 'to', 'sea', 'as', 'a', 'passenger', '.'], ['for', 'to', 'go', 'as', 'a', 'passenger', 'you', 'must', 'need', 'have', 'a', 'purse', ',', 'and', 'a', 'purse', 'be', 'but', 'a', 'rag', 'unless', 'you', 'have', 'something', 'in', 'it', '.'], ['besides', ',', 'passenger', 'get', 'sea', '-', 'sick', '--', 'grow', 'quarrelsome', '--', 'don', \"'\", 't', 'sleep', 'of', 'night', '--', 'do', 'not', 'enjoy', 'themselves', 'much', ',', 'as', 'a', 'general', 'thing', ';', '--', 'no', ',', 'I', 'never', 'go', 'as', 'a', 'passenger', ';', 'nor', ',', 'though', 'I', 'be', 'something', 'of', 'a', 'salt', ',', 'do', 'I', 'ever', 'go', 'to', 'sea', 'as', 'a', 'Commodore', ',', 'or', 'a', 'Captain', ',', 'or', 'a', 'Cook', '.'], ['I', 'abandon', 'the', 'glory', 'and', 'distinction', 'of', 'such', 'office', 'to', 'those', 'who', 'like', 'they', '.'], ['for', 'my', 'part', ',', 'I', 'abominate', 'all', 'honourable', 'respectable', 'toil', ',', 'trial', ',', 'and', 'tribulation', 'of', 'every', 'kind', 'whatsoever', '.'], ['it', 'be', 'quite', 'as', 'much', 'as', 'I', 'can', 'do', 'to', 'take', 'care', 'of', 'myself', ',', 'without', 'take', 'care', 'of', 'ship', ',', 'barque', ',', 'brig', ',', 'schooner', ',', 'and', 'what', 'not', '.'], ['and', 'as', 'for', 'go', 'as', 'cook', ',', '--', 'though', 'I', 'confess', 'there', 'be', 'considerable', 'glory', 'in', 'that', ',', 'a', 'cook', 'be', 'a', 'sort', 'of', 'officer', 'on', 'ship', '-', 'board', '--', 'yet', ',', 'somehow', ',', 'I', 'never', 'fancy', 'broil', 'fowl', ';', '--', 'though', 'once', 'broil', ',', 'judiciously', 'butter', ',', 'and', 'judgmatically', 'salt', 'and', 'pepper', ',', 'there', 'be', 'no', 'one', 'who', 'will', 'speak', 'more', 'respectfully', ',', 'not', 'to', 'say', 'reverentially', ',', 'of', 'a', 'broil', 'fowl', 'than', 'I', 'will', '.'], ['it', 'be', 'out', 'of', 'the', 'idolatrous', 'doting', 'of', 'the', 'old', 'Egyptians', 'upon', 'broil', 'ibis', 'and', 'roasted', 'river', 'horse', ',', 'that', 'you', 'see', 'the', 'mummy', 'of', 'those', 'creature', 'in', 'their', 'huge', 'bake', '-', 'house', 'the', 'pyramid', '.'], ['no', ',', 'when', 'I', 'go', 'to', 'sea', ',', 'I', 'go', 'as', 'a', 'simple', 'sailor', ',', 'right', 'before', 'the', 'mast', ',', 'plumb', 'down', 'into', 'the', 'forecastle', ',', 'aloft', 'there', 'to', 'the', 'royal', 'mast', '-', 'head', '.'], ['true', ',', 'they', 'rather', 'order', 'I', 'about', 'some', ',', 'and', 'make', 'I', 'jump', 'from', 'spar', 'to', 'spar', ',', 'like', 'a', 'grasshopper', 'in', 'a', 'May', 'meadow', '.'], ['and', 'at', 'first', ',', 'this', 'sort', 'of', 'thing', 'be', 'unpleasant', 'enough', '.'], ['it', 'touch', 'one', \"'\", 's', 'sense', 'of', 'honour', ',', 'particularly', 'if', 'you', 'come', 'of', 'an', 'old', 'establish', 'family', 'in', 'the', 'land', ',', 'the', 'Van', 'Rensselaers', ',', 'or', 'Randolphs', ',', 'or', 'Hardicanutes', '.'], ['and', 'more', 'than', 'all', ',', 'if', 'just', 'previous', 'to', 'put', 'your', 'hand', 'into', 'the', 'tar', '-', 'pot', ',', 'you', 'have', 'be', 'lord', 'it', 'as', 'a', 'country', 'schoolmaster', ',', 'make', 'the', 'tall', 'boy', 'stand', 'in', 'awe', 'of', 'you', '.'], ['the', 'transition', 'be', 'a', 'keen', 'one', ',', 'I', 'assure', 'you', ',', 'from', 'a', 'schoolmaster', 'to', 'a', 'sailor', ',', 'and', 'require', 'a', 'strong', 'decoction', 'of', 'Seneca', 'and', 'the', 'Stoics', 'to', 'enable', 'you', 'to', 'grin', 'and', 'bear', 'it', '.'], ['but', 'even', 'this', 'wear', 'off', 'in', 'time', '.'], ['what', 'of', 'it', ',', 'if', 'some', 'old', 'hunk', 'of', 'a', 'sea', '-', 'captain', 'order', 'I', 'to', 'get', 'a', 'broom', 'and', 'sweep', 'down', 'the', 'deck', '?'], ['what', 'do', 'that', 'indignity', 'amount', 'to', ',', 'weigh', ',', 'I', 'mean', ',', 'in', 'the', 'scale', 'of', 'the', 'New', 'Testament', '?'], ['do', 'you', 'think', 'the', 'archangel', 'Gabriel', 'think', 'anything', 'the', 'less', 'of', 'I', ',', 'because', 'I', 'promptly', 'and', 'respectfully', 'obey', 'that', 'old', 'hunk', 'in', 'that', 'particular', 'instance', '?'], ['who', 'ain', \"'\", 't', 'a', 'slave', '?'], ['tell', 'I', 'that', '.'], ['well', ',', 'then', ',', 'however', 'the', 'old', 'sea', '-', 'captain', 'may', 'order', 'I', 'about', '--', 'however', 'they', 'may', 'thump', 'and', 'punch', 'I', 'about', ',', 'I', 'have', 'the', 'satisfaction', 'of', 'know', 'that', 'it', 'be', 'all', 'right', ';', 'that', 'everybody', 'else', 'be', 'one', 'way', 'or', 'other', 'serve', 'in', 'much', 'the', 'same', 'way', '--', 'either', 'in', 'a', 'physical', 'or', 'metaphysical', 'point', 'of', 'view', ',', 'that', 'is', ';', 'and', 'so', 'the', 'universal', 'thump', 'be', 'pass', 'round', ',', 'and', 'all', 'hand', 'should', 'rub', 'each', 'other', \"'\", 's', 'shoulder', '-', 'blade', ',', 'and', 'be', 'content', '.'], ['again', ',', 'I', 'always', 'go', 'to', 'sea', 'as', 'a', 'sailor', ',', 'because', 'they', 'make', 'a', 'point', 'of', 'pay', 'I', 'for', 'my', 'trouble', ',', 'whereas', 'they', 'never', 'pay', 'passenger', 'a', 'single', 'penny', 'that', 'I', 'ever', 'hear', 'of', '.'], ['on', 'the', 'contrary', ',', 'passenger', 'themselves', 'must', 'pay', '.'], ['and', 'there', 'be', 'all', 'the', 'difference', 'in', 'the', 'world', 'between', 'pay', 'and', 'be', 'pay', '.'], ['the', 'act', 'of', 'pay', 'be', 'perhaps', 'the', 'most', 'uncomfortable', 'infliction', 'that', 'the', 'two', 'orchard', 'thief', 'entail', 'upon', 'we', '.'], ['but', 'be', 'PAID', ',', '--', 'what', 'will', 'compare', 'with', 'it', '?'], ['the', 'urbane', 'activity', 'with', 'which', 'a', 'man', 'receive', 'money', 'be', 'really', 'marvellous', ',', 'consider', 'that', 'we', 'so', 'earnestly', 'believe', 'money', 'to', 'be', 'the', 'root', 'of', 'all', 'earthly', 'ill', ',', 'and', 'that', 'on', 'no', 'account', 'can', 'a', 'monied', 'man', 'enter', 'heaven', '.'], ['ah', '!'], ['how', 'cheerfully', 'we', 'consign', 'ourselves', 'to', 'perdition', '!'], ['finally', ',', 'I', 'always', 'go', 'to', 'sea', 'as', 'a', 'sailor', ',', 'because', 'of', 'the', 'wholesome', 'exercise', 'and', 'pure', 'air', 'of', 'the', 'fore', '-', 'castle', 'deck', '.'], ['for', 'as', 'in', 'this', 'world', ',', 'head', 'wind', 'be', 'far', 'more', 'prevalent', 'than', 'wind', 'from', 'astern', '(', 'that', 'is', ',', 'if', 'you', 'never', 'violate', 'the', 'pythagorean', 'maxim', ')', ',', 'so', 'for', 'the', 'most', 'part', 'the', 'Commodore', 'on', 'the', 'quarter', '-', 'deck', 'get', 'his', 'atmosphere', 'at', 'second', 'hand', 'from', 'the', 'sailor', 'on', 'the', 'forecastle', '.'], ['he', 'think', 'he', 'breathe', 'it', 'first', ';', 'but', 'not', 'so', '.'], ['in', 'much', 'the', 'same', 'way', 'do', 'the', 'commonalty', 'lead', 'their', 'leader', 'in', 'many', 'other', 'thing', ',', 'at', 'the', 'same', 'time', 'that', 'the', 'leader', 'little', 'suspect', 'it', '.'], ['but', 'wherefore', 'it', 'be', 'that', 'after', 'having', 'repeatedly', 'smell', 'the', 'sea', 'as', 'a', 'merchant', 'sailor', ',', 'I', 'should', 'now', 'take', 'it', 'into', 'my', 'head', 'to', 'go', 'on', 'a', 'whaling', 'voyage', ';', 'this', 'the', 'invisible', 'police', 'officer', 'of', 'the', 'Fates', ',', 'who', 'have', 'the', 'constant', 'surveillance', 'of', 'I', ',', 'and', 'secretly', 'dog', 'I', ',', 'and', 'influence', 'I', 'in', 'some', 'unaccountable', 'way', '--', 'he', 'can', 'well', 'answer', 'than', 'any', 'one', 'else', '.'], ['and', ',', 'doubtless', ',', 'my', 'go', 'on', 'this', 'whaling', 'voyage', ',', 'form', 'part', 'of', 'the', 'grand', 'programme', 'of', 'Providence', 'that', 'be', 'draw', 'up', 'a', 'long', 'time', 'ago', '.'], ['it', 'come', 'in', 'as', 'a', 'sort', 'of', 'brief', 'interlude', 'and', 'solo', 'between', 'more', 'extensive', 'performance', '.'], ['I', 'take', 'it', 'that', 'this', 'part', 'of', 'the', 'bill', 'must', 'have', 'run', 'something', 'like', 'this', ':'], ['\"', 'GRAND', 'CONTESTED', 'election', 'for', 'the', 'PRESIDENCY', 'of', 'the', 'UNITED', 'STATES', '.'], ['\"', 'whale', 'voyage', 'by', 'one', 'ISHMAEL', '.'], ['\"', 'BLOODY', 'BATTLE', 'in', 'AFFGHANISTAN', '.', '\"'], ['though', 'I', 'can', 'not', 'tell', 'why', 'it', 'be', 'exactly', 'that', 'those', 'stage', 'manager', ',', 'the', 'Fates', ',', 'put', 'I', 'down', 'for', 'this', 'shabby', 'part', 'of', 'a', 'whaling', 'voyage', ',', 'when', 'other', 'be', 'set', 'down', 'for', 'magnificent', 'part', 'in', 'high', 'tragedy', ',', 'and', 'short', 'and', 'easy', 'part', 'in', 'genteel', 'comedy', ',', 'and', 'jolly', 'part', 'in', 'farce', '--', 'though', 'I', 'can', 'not', 'tell', 'why', 'this', 'be', 'exactly', ';', 'yet', ',', 'now', 'that', 'I', 'recall', 'all', 'the', 'circumstance', ',', 'I', 'think', 'I', 'can', 'see', 'a', 'little', 'into', 'the', 'spring', 'and', 'motive', 'which', 'be', 'cunningly', 'present', 'to', 'I', 'under', 'various', 'disguise', ',', 'induce', 'I', 'to', 'set', 'about', 'perform', 'the', 'part', 'I', 'do', ',', 'besides', 'cajole', 'I', 'into', 'the', 'delusion', 'that', 'it', 'be', 'a', 'choice', 'result', 'from', 'my', 'own', 'unbiased', 'freewill', 'and', 'discriminate', 'judgment', '.'], ['chief', 'among', 'these', 'motive', 'be', 'the', 'overwhelming', 'idea', 'of', 'the', 'great', 'whale', 'himself', '.'], ['such', 'a', 'portentous', 'and', 'mysterious', 'monster', 'rouse', 'all', 'my', 'curiosity', '.'], ['then', 'the', 'wild', 'and', 'distant', 'sea', 'where', 'he', 'roll', 'his', 'island', 'bulk', ';', 'the', 'undeliverable', ',', 'nameless', 'peril', 'of', 'the', 'whale', ';', 'these', ',', 'with', 'all', 'the', 'attend', 'marvel', 'of', 'a', 'thousand', 'patagonian', 'sight', 'and', 'sound', ',', 'help', 'to', 'sway', 'I', 'to', 'my', 'wish', '.'], ['with', 'other', 'man', ',', 'perhaps', ',', 'such', 'thing', 'would', 'not', 'have', 'be', 'inducement', ';', 'but', 'as', 'for', 'I', ',', 'I', 'be', 'torment', 'with', 'an', 'everlasting', 'itch', 'for', 'thing', 'remote', '.']]\n"
     ]
    }
   ],
   "source": [
    "lemmas = [\n",
    "    [token.lemma_ for token in nlp(sentence)]\n",
    "    for sentence in documents[:100]\n",
    "]\n",
    "print(lemmas)"
   ]
  },
  {
   "cell_type": "markdown",
   "metadata": {
    "slideshow": {
     "slide_type": "subslide"
    }
   },
   "source": [
    "### Exercise\n",
    "\n",
    "Keep track of the most frequent word for each stem in `tokens`. Hint: use a nested `defaultdict`.\n",
    "\n",
    "- How many word forms does the stem `hand` have?\n",
    "- What is the most common word form for the stems `respect` and `whale`? What happened there?"
   ]
  },
  {
   "cell_type": "code",
   "execution_count": 38,
   "metadata": {},
   "outputs": [
    {
     "data": {
      "text/plain": [
       "Counter({'respectable': 2,\n",
       "         'respectfully': 4,\n",
       "         'respects': 8,\n",
       "         'respective': 4,\n",
       "         'respect': 15,\n",
       "         'RESPECTABLE': 1,\n",
       "         'respectively': 3,\n",
       "         'respecting': 2,\n",
       "         'Respectively': 1,\n",
       "         'respectful': 2,\n",
       "         'respected': 1})"
      ]
     },
     "execution_count": 38,
     "metadata": {},
     "output_type": "execute_result"
    }
   ],
   "source": [
    "from collections import defaultdict\n",
    "from nltk import SnowballStemmer\n",
    "\n",
    "stemmer = SnowballStemmer('english')\n",
    "\n",
    "stems = [stemmer.stem(token) for token in tokens] \n",
    "\n",
    "wordcounts = defaultdict(list)\n",
    "\n",
    "for (token, stem) in zip(tokens, stems):\n",
    "    #print(token, stem)\n",
    "    wordcounts[stem].append(token)\n",
    "\n",
    "Counter(wordcounts['hand'])\n",
    "Counter(wordcounts['respect'])\n",
    "#Counter(wordcounts['whale'])"
   ]
  },
  {
   "cell_type": "code",
   "execution_count": 25,
   "metadata": {},
   "outputs": [],
   "source": [
    "?defaultdict"
   ]
  },
  {
   "cell_type": "markdown",
   "metadata": {
    "slideshow": {
     "slide_type": "subslide"
    }
   },
   "source": [
    "### Exercise\n",
    "Print out the words in the first 10 sentences, but remove all words that are not nouns, verbs, adjectives, adverbs, or proper names."
   ]
  },
  {
   "cell_type": "code",
   "execution_count": 73,
   "metadata": {},
   "outputs": [
    {
     "name": "stdout",
     "output_type": "stream",
     "text": [
      "[['Loomings'], ['Call', 'Ishmael'], ['years', 'ago', 'never', 'mind', 'how', 'long', 'precisely', 'having', 'little', 'money', 'purse', 'particular', 'interest', 'shore', 'thought', 'sail', 'about', 'little', 'see', 'watery', 'part', 'world'], ['way', 'have', 'driving', 'spleen', 'regulating', 'circulation'], ['Whenever', 'find', 'growing', 'grim', 'mouth', 'whenever', 'is', 'damp', 'drizzly', 'November', 'soul', 'whenever', 'find', 'involuntarily', 'pausing', 'coffin', 'warehouses', 'bringing', 'rear', 'funeral', 'meet', 'especially', 'whenever', 'hypos', 'get', 'upper', 'hand', 'requires', 'strong', 'moral', 'principle', 'prevent', 'deliberately', 'stepping', 'street', 'methodically', 'knocking', 'people', 'hats', 'then', 'account', 'high', 'time', 'get', 'sea', 'as', 'soon'], ['substitute', 'pistol', 'ball'], ['philosophical', 'flourish', 'Cato', 'throws', 'sword', 'quietly', 'take', 'ship'], ['surprising'], ['knew', 'almost', 'men', 'degree', 'time', 'other', 'cherish', 'very', 'nearly', 'same', 'feelings', 'ocean'], ['now', 'insular', 'city', 'Manhattoes', 'belted', 'round', 'wharves', 'Indian', 'isles', 'coral', 'reefs', 'commerce', 'surrounds', 'surf']]\n"
     ]
    }
   ],
   "source": [
    "content = [[token.text for token in nlp(sentence)\n",
    "            if token.pos_ in ('NOUN', 'VERB', 'ADJ', 'ADV', 'PROPN')]\n",
    "           for sentence in documents[:10]]\n",
    "\n",
    "\n",
    "print(content)"
   ]
  },
  {
   "cell_type": "code",
   "execution_count": 42,
   "metadata": {},
   "outputs": [],
   "source": [
    "?print"
   ]
  },
  {
   "cell_type": "markdown",
   "metadata": {
    "slideshow": {
     "slide_type": "subslide"
    }
   },
   "source": [
    "### Exercise\n",
    "Who are the 5 most frequently named people in the first 500 sentence?"
   ]
  },
  {
   "cell_type": "code",
   "execution_count": 97,
   "metadata": {},
   "outputs": [
    {
     "data": {
      "text/plain": [
       "defaultdict(int,\n",
       "            {'Niagara': 1,\n",
       "             'Jove': 1,\n",
       "             'Narcissus': 1,\n",
       "             'Cook': 1,\n",
       "             'Randolphs': 1,\n",
       "             'Gabriel': 1,\n",
       "             'Manhatto': 1,\n",
       "             'Gomorrah': 1,\n",
       "             'Doom': 1,\n",
       "             'Euroclydon': 1,\n",
       "             'Dives': 1,\n",
       "             'Czar': 1,\n",
       "             'Nathan Swain': 1,\n",
       "             'Landlord': 7,\n",
       "             'Grampus': 1,\n",
       "             'Hurrah': 1,\n",
       "             'Southerner': 1,\n",
       "             'Bulkington': 3,\n",
       "             'BROWN': 1,\n",
       "             'Sam': 2,\n",
       "             'Johnny': 1,\n",
       "             'Nod': 1,\n",
       "             'Don': 1,\n",
       "             'Queequeg': 1})"
      ]
     },
     "execution_count": 97,
     "metadata": {},
     "output_type": "execute_result"
    }
   ],
   "source": [
    "import numpy as np\n",
    "\n",
    "entities = [[entity.text \n",
    "             for entity in nlp(sentence).ents\n",
    "            if entity.label_ == 'PERSON']\n",
    "            for sentence in documents[:500]]\n",
    "\n",
    "count = defaultdict(int)\n",
    "entities = np.concatenate(entities)\n",
    "for x in entities:\n",
    "    count[x] += 1\n",
    "count"
   ]
  },
  {
   "cell_type": "markdown",
   "metadata": {
    "slideshow": {
     "slide_type": "subslide"
    }
   },
   "source": [
    "### Exercise\n",
    "\n",
    "Use the text below to extract all entities. \n",
    "- Create tuples of `(lemma, NER type)`\n",
    "- Collect counts over the tuples\n",
    "- Look at the 10 most frequent tuples: how many of them are wrong? Why? Discuss with a neighbor.\n"
   ]
  },
  {
   "cell_type": "code",
   "execution_count": 1,
   "metadata": {
    "ExecuteTime": {
     "end_time": "2021-03-22T09:41:05.653474Z",
     "start_time": "2021-03-22T09:41:05.645232Z"
    }
   },
   "outputs": [],
   "source": [
    "text = \"\"\"\n",
    "Seville.\n",
    "Summers in the flamboyant Andalucían capital often nudge 40C, but spring is a delight, with the parks in bloom and the scent of orange blossom and jasmine in the air. And in Semana Santa (Holy Week, 14-20 April) the streets come alive with floats and processions. There is also the raucous annual Feria de Abril – a week-long fiesta of parades, flamenco and partying long into the night (4-11 May; expect higher hotel prices if you visit then).\n",
    "Seville is a romantic and energetic place, with sights aplenty, from the Unesco-listed cathedral – the largest Gothic cathedral in the world – to the beautiful Alcázar royal palace. But days here are best spent simply wandering the medieval streets of Santa Cruz and along the river to La Real Maestranza, Spain’s most spectacular bullring.\n",
    "Seville is the birthplace of tapas and perfect for a foodie break – join a tapas tour (try devoursevillefoodtours.com), or stop at the countless bars for a glass of sherry with local jamón ibérico (check out Bar Las Teresas in Santa Cruz or historic Casa Morales in Constitución). Great food markets include the Feria, the oldest, and the wooden, futuristic-looking Metropol Parasol.\n",
    "Nightlife is, unsurprisingly, late and lively. For flamenco, try one of the peñas, or flamenco social clubs – Torres Macarena on C/Torrijano, perhaps – with bars open across town until the early hours.\n",
    "Book it: In an atmospheric 18th-century house, the Hospes Casa del Rey de Baeza is a lovely place to stay in lively Santa Cruz. Doubles from £133 room only, hospes.com\n",
    "Trieste.\n",
    "By April, temperatures are on the rise in Trieste and in the late 20s by May. It is far less touristy than the likes of Florence or Rome, and spring sees the city’s lovely restaurants and bars populated almost exclusively by locals.\n",
    "A city with a proud coffee-drinking culture – Illy has its headquarters here – Trieste has many venerable cafes, including the dazzling mirror-walled Caffè degli Specchi on the Piazza Unità d’Italia – said to be Europe’s biggest seaside piazza – and the elegant Caffè San Marco, which has a good bookshop. James Joyce was a regular when he lived here between 1904-1915. You can learn all about him at the excellent museum, which also has a free, downloadable themed walk on its website (museojoycetrieste.it).\n",
    "Above Trieste is a vast limestone plateau known as the carso (or karst). Travel up to Villa Opicina on the edge of the region by bus.\n",
    "There are several trattorie, but for a real treat catch a cab to one of the 30 or so osmize – farm restaurants that sell their wines, cured meats, cheese, honey, fruit and veg; traditionally, they were open eight, 16 or 24 days per year (“osmi” means “eighth” in Slovene) but this now varies – check the app at osmize.com for details.\n",
    "Book it: Stay at the palatial, seafront Savoia Excelsior Palace, Jan Morris’s pad in her book Trieste and the Meaning of Nowhere. Doubles from £127 room only, starhotelscollezione.com\n",
    "Belgrade.\n",
    "As Belgrade shrugs off the snow, cafe tables start colonising the pavements again. Not that Serbia’s capital hibernates during the winter, but spring brings a freshness worth savouring before summer’s 40C heat kicks in.\n",
    "You feel it especially in Kalemegdan, the huge park and fortress hugging the confluence of the Danube and Sava rivers. Down below are wide riverside paths that offer superb cycling all the way to the attractive suburb of Zemun. Follow the Sava southwards to reach the river island of Ada Ciganlija – open all year round for walks and bike rides and usually warm enough in May for a swim.\n",
    "Although barely a month goes by without a festival, the pace picks up during spring. The Belgrade Dance Festival attracts dance companies from around the world. Classical guitar gets its own spotlight during the Guitar Art Festivalfrom 12-17 March, and from 26-28 April you can join the Orthodox Easter festivities. The landmark Mikser House in Savamala may have closed, but its Mikser festival still celebrates the best in Balkan design (24-26 May).\n",
    "With the long-awaited reopening of the National Museum of Serbia and the Museum of Contemporary Art, Belgrade has some cultural heavyweights to add to its dizzyingly varied restaurant scene. Head to the Dorćol district for cheap cocktails in Blaznavac’s psychedelic garden before a Balkan-Mediterranean dinner in cosy Tezga (Strahinjića Bana 82, on Facebook).\n",
    "Book it: Set in a handsome 1929 villa in Dorćol, Smokvica has six stylish rooms as well as a restaurant with a courtyard garden. Doubles from €70 room only, smokvica.rs\n",
    "Montpellier.\n",
    "Montpellier combines easy elegance and a vibrant cultural scene with a youthful buzz – its university, founded in the 13th century, counts radical satirist Rabelais among its alumni and some 60,000 students live here.\n",
    "The medieval centre is a maze made for wandering, with 16 leafy squares – in spring, all green and abuzz with alfresco cafe life. The vast, pedestrianised Place de la Comédie connects the old town with the striking new Antigone district, replete with modern, neoclassical-style buildings.\n",
    "For a fine-art foray, head to Musée Fabre – one of the biggest in France – or nearby photography museum Pavillon Populaire. Montpellier boasts the oldest botanical garden in France, too, dating from 1593 and particularly beautiful in April and May. Independent boutiques, opera houses, markets laden with Languedoc produce (look for oysters and asparagus) and great dining options add to the appeal. Le Petit Jardin is a bistro and lovely garden restaurant near the old cathedral.\n",
    "Beyond the city, discover vineyards like Mas de Daumas Gassac or hike up Pic St-Loup in the Cévennes foothills for views over the coast. The beach and charming seaside town of Palavas-les-Flots is just 10km away – a tram ride or easy cycle (rent bicycles from Ville et Vélo).\n",
    "Book it: Hotel Le Guilhem is a 16th-century building in the historic centre with cathedral views from its terrace (where breakfast is served, weather permitting). Doubles from £83 room only, leguilhem.com\n",
    "Berlin.\n",
    "After a long, cold winter, Berliners waste no time in celebrating the return of the sun, with beer gardens and flea markets reopening all over the city. Try picturesque Cafe Am Neuen Seefor lakeside pizza and beer in the Tiergarten, and hang out with the hipsters along the canal at Berlin’s coolest flohmarkt, surrounded by cherry blossom trees, a charming place to browse and have a couple of beers.\n",
    "For the best blossom, though, head to one of the trails along the line of the wall, the Mauerweg, near S-bahn Bornholmer Strasse, or Lichterfelde Süd, where the trees were gifted by the Japanese to celebrate German reunification in 1989.\n",
    "Berlin is set for two big anniversaries this year: it’s 100 years since the Bauhaus was founded and 30 years since the wall came down, so check out events including exhibitions and dances themed around the former (see visitberlin.de for more information) or get a feel for the creative chaos of post-wall Berlin at the multimedia Nineties Berlin exhibition.\n",
    "Boat tours along the river and canals are superb in spring but, generally, cycling is the best way to get around (many hotels and hostels have their own). And if urban life gets a bit much, do as the Berliners do and head out to one of the many city lakes, such as Schlachtensee or Wannsee, directly accessible by U and S-bahn.\n",
    "Book it: Boutique Hotel Oderberger in a trendy, central location has doubles from £113, hotel-oderberger.berlin, or try indoor caravanning at Hüttenpalast, doubles from £61 room only, huettenpalast.de\n",
    "\"\"\""
   ]
  },
  {
   "cell_type": "markdown",
   "metadata": {},
   "source": [
    "The first thing to note is that this document is a multiline string, and that each full stop coincides with the escape character. In this case, if we want to analyse the document, we first have to split lines into sentences."
   ]
  },
  {
   "cell_type": "code",
   "execution_count": 2,
   "metadata": {
    "ExecuteTime": {
     "end_time": "2021-03-22T09:41:09.097231Z",
     "start_time": "2021-03-22T09:41:08.620089Z"
    }
   },
   "outputs": [
    {
     "ename": "NameError",
     "evalue": "name 'nlp' is not defined",
     "output_type": "error",
     "traceback": [
      "\u001b[1;31m---------------------------------------------------------------------------\u001b[0m",
      "\u001b[1;31mNameError\u001b[0m                                 Traceback (most recent call last)",
      "\u001b[1;32m<ipython-input-2-4c843c98aab3>\u001b[0m in \u001b[0;36m<module>\u001b[1;34m\u001b[0m\n\u001b[0;32m      1\u001b[0m \u001b[0mtravel\u001b[0m \u001b[1;33m=\u001b[0m \u001b[0mtext\u001b[0m\u001b[1;33m.\u001b[0m\u001b[0msplitlines\u001b[0m\u001b[1;33m(\u001b[0m\u001b[1;33m)\u001b[0m\u001b[1;33m\u001b[0m\u001b[1;33m\u001b[0m\u001b[0m\n\u001b[0;32m      2\u001b[0m \u001b[1;33m\u001b[0m\u001b[0m\n\u001b[1;32m----> 3\u001b[1;33m \u001b[0mentities2\u001b[0m \u001b[1;33m=\u001b[0m \u001b[1;33m[\u001b[0m\u001b[1;33m(\u001b[0m\u001b[0mentity\u001b[0m\u001b[1;33m.\u001b[0m\u001b[0mtext\u001b[0m\u001b[1;33m,\u001b[0m \u001b[0mentity\u001b[0m\u001b[1;33m.\u001b[0m\u001b[0mlabel_\u001b[0m\u001b[1;33m)\u001b[0m \u001b[1;32mfor\u001b[0m \u001b[0msentence\u001b[0m \u001b[1;32min\u001b[0m \u001b[0mtravel\u001b[0m \u001b[1;32mfor\u001b[0m \u001b[0mentity\u001b[0m \u001b[1;32min\u001b[0m \u001b[0mnlp\u001b[0m\u001b[1;33m(\u001b[0m\u001b[0msentence\u001b[0m\u001b[1;33m)\u001b[0m\u001b[1;33m.\u001b[0m\u001b[0ments\u001b[0m\u001b[1;33m]\u001b[0m\u001b[1;33m\u001b[0m\u001b[1;33m\u001b[0m\u001b[0m\n\u001b[0m\u001b[0;32m      4\u001b[0m \u001b[1;33m\u001b[0m\u001b[0m\n\u001b[0;32m      5\u001b[0m \u001b[0mprint\u001b[0m\u001b[1;33m(\u001b[0m\u001b[0mentities2\u001b[0m\u001b[1;33m[\u001b[0m\u001b[1;33m:\u001b[0m\u001b[1;36m30\u001b[0m\u001b[1;33m]\u001b[0m\u001b[1;33m)\u001b[0m\u001b[1;33m\u001b[0m\u001b[1;33m\u001b[0m\u001b[0m\n",
      "\u001b[1;32m<ipython-input-2-4c843c98aab3>\u001b[0m in \u001b[0;36m<listcomp>\u001b[1;34m(.0)\u001b[0m\n\u001b[0;32m      1\u001b[0m \u001b[0mtravel\u001b[0m \u001b[1;33m=\u001b[0m \u001b[0mtext\u001b[0m\u001b[1;33m.\u001b[0m\u001b[0msplitlines\u001b[0m\u001b[1;33m(\u001b[0m\u001b[1;33m)\u001b[0m\u001b[1;33m\u001b[0m\u001b[1;33m\u001b[0m\u001b[0m\n\u001b[0;32m      2\u001b[0m \u001b[1;33m\u001b[0m\u001b[0m\n\u001b[1;32m----> 3\u001b[1;33m \u001b[0mentities2\u001b[0m \u001b[1;33m=\u001b[0m \u001b[1;33m[\u001b[0m\u001b[1;33m(\u001b[0m\u001b[0mentity\u001b[0m\u001b[1;33m.\u001b[0m\u001b[0mtext\u001b[0m\u001b[1;33m,\u001b[0m \u001b[0mentity\u001b[0m\u001b[1;33m.\u001b[0m\u001b[0mlabel_\u001b[0m\u001b[1;33m)\u001b[0m \u001b[1;32mfor\u001b[0m \u001b[0msentence\u001b[0m \u001b[1;32min\u001b[0m \u001b[0mtravel\u001b[0m \u001b[1;32mfor\u001b[0m \u001b[0mentity\u001b[0m \u001b[1;32min\u001b[0m \u001b[0mnlp\u001b[0m\u001b[1;33m(\u001b[0m\u001b[0msentence\u001b[0m\u001b[1;33m)\u001b[0m\u001b[1;33m.\u001b[0m\u001b[0ments\u001b[0m\u001b[1;33m]\u001b[0m\u001b[1;33m\u001b[0m\u001b[1;33m\u001b[0m\u001b[0m\n\u001b[0m\u001b[0;32m      4\u001b[0m \u001b[1;33m\u001b[0m\u001b[0m\n\u001b[0;32m      5\u001b[0m \u001b[0mprint\u001b[0m\u001b[1;33m(\u001b[0m\u001b[0mentities2\u001b[0m\u001b[1;33m[\u001b[0m\u001b[1;33m:\u001b[0m\u001b[1;36m30\u001b[0m\u001b[1;33m]\u001b[0m\u001b[1;33m)\u001b[0m\u001b[1;33m\u001b[0m\u001b[1;33m\u001b[0m\u001b[0m\n",
      "\u001b[1;31mNameError\u001b[0m: name 'nlp' is not defined"
     ]
    }
   ],
   "source": [
    "travel = text.splitlines()\n",
    "\n",
    "entities2 = [(entity.text, entity.label_) for sentence in travel for entity in nlp(sentence).ents]\n",
    "\n",
    "print(entities2[:30])"
   ]
  },
  {
   "cell_type": "code",
   "execution_count": 3,
   "metadata": {
    "ExecuteTime": {
     "end_time": "2021-03-22T09:41:27.783127Z",
     "start_time": "2021-03-22T09:41:27.767826Z"
    }
   },
   "outputs": [
    {
     "ename": "NameError",
     "evalue": "name 'Counter' is not defined",
     "output_type": "error",
     "traceback": [
      "\u001b[1;31m---------------------------------------------------------------------------\u001b[0m",
      "\u001b[1;31mNameError\u001b[0m                                 Traceback (most recent call last)",
      "\u001b[1;32m<ipython-input-3-682c3d6df648>\u001b[0m in \u001b[0;36m<module>\u001b[1;34m\u001b[0m\n\u001b[1;32m----> 1\u001b[1;33m \u001b[0mCounter\u001b[0m\u001b[1;33m(\u001b[0m\u001b[0mentities2\u001b[0m\u001b[1;33m)\u001b[0m\u001b[1;33m.\u001b[0m\u001b[0mmost_common\u001b[0m\u001b[1;33m(\u001b[0m\u001b[1;36m10\u001b[0m\u001b[1;33m)\u001b[0m\u001b[1;33m\u001b[0m\u001b[1;33m\u001b[0m\u001b[0m\n\u001b[0m",
      "\u001b[1;31mNameError\u001b[0m: name 'Counter' is not defined"
     ]
    }
   ],
   "source": [
    "Counter(entities2).most_common(10)"
   ]
  },
  {
   "cell_type": "markdown",
   "metadata": {
    "slideshow": {
     "slide_type": "subslide"
    }
   },
   "source": [
    "## Exercise\n",
    "How does Melville describe nouns? Extract all the pairs related by `amod`."
   ]
  },
  {
   "cell_type": "code",
   "execution_count": 21,
   "metadata": {},
   "outputs": [],
   "source": [
    "parses = [(word.text, word.head.text, word.dep_) for sentence in documents[:300] for word in nlp(sentence)\n",
    "          if word.dep_ == 'amod']\n",
    "\n",
    "# To give a hint on how Melville uses the amod's, we print just the first 10 lines\n",
    "\n",
    "parses[:10]\n"
   ]
  }
 ],
 "metadata": {
  "anaconda-cloud": {},
  "celltoolbar": "Slideshow",
  "kernelspec": {
   "display_name": "Python 3",
   "language": "python",
   "name": "python3"
  },
  "language_info": {
   "codemirror_mode": {
    "name": "ipython",
    "version": 3
   },
   "file_extension": ".py",
   "mimetype": "text/x-python",
   "name": "python",
   "nbconvert_exporter": "python",
   "pygments_lexer": "ipython3",
   "version": "3.8.3"
  },
  "livereveal": {
   "scroll": true,
   "start_slideshow_at": "selected",
   "transition": "none"
  }
 },
 "nbformat": 4,
 "nbformat_minor": 2
}
