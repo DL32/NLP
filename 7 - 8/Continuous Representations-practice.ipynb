{
 "cells": [
  {
   "cell_type": "markdown",
   "metadata": {
    "slideshow": {
     "slide_type": "slide"
    }
   },
   "source": [
    "# Word Representations\n",
    "\n",
    "## *\"I know words. I have the best words!\"*\n",
    "    - Noam Chomsky"
   ]
  },
  {
   "cell_type": "markdown",
   "metadata": {
    "slideshow": {
     "slide_type": "slide"
    }
   },
   "source": [
    "# Dense Distributed Representations"
   ]
  },
  {
   "cell_type": "code",
   "execution_count": 65,
   "metadata": {
    "ExecuteTime": {
     "end_time": "2021-02-26T08:38:38.486312Z",
     "start_time": "2021-02-26T08:38:38.463603Z"
    }
   },
   "outputs": [],
   "source": [
    "import pandas as pd\n",
    "import numpy as np\n",
    "df = pd.read_csv('../data/reviews.full.tsv', sep='\\t', nrows=1000)\n",
    "documents = df.text.tolist()"
   ]
  },
  {
   "cell_type": "markdown",
   "metadata": {
    "slideshow": {
     "slide_type": "subslide"
    }
   },
   "source": [
    "\n",
    "## Exercise 1\n",
    "Use `spacy` to restrict the words in the reviews to *content words*, i.e., nouns, verbs, and adjectives. Transform the words to lower case and add the POS with an underderscore. E.g.:\n",
    "\n",
    "`love_VERB old-fashioneds_NOUN`\n",
    "\n",
    "This also allows us to distinguish between homographs, i.e., words that are written the same, but belong to different word classes, e.g., *love* in \"I **love** old-fashioneds\" vs. \"He felt so sick, it must have been **love**\".\n",
    "\n",
    "\n",
    "Make sure to exclude sentences that contain none of the above.\n",
    "\n",
    "Write the resulting corpus to a variable called `word_corpus`."
   ]
  },
  {
   "cell_type": "code",
   "execution_count": 56,
   "metadata": {
    "ExecuteTime": {
     "end_time": "2021-02-26T08:33:12.054888Z",
     "start_time": "2021-02-26T08:33:10.652357Z"
    }
   },
   "outputs": [],
   "source": [
    "import spacy\n",
    "import nltk\n",
    "from nltk.corpus import stopwords\n",
    "\n",
    "nlp = spacy.load('en_core_web_sm', disable=['parser', 'ner'])\n",
    "stopwords_ = set(stopwords.words('english'))\n",
    "\n",
    "tokensss=[]\n",
    "for sentence in documents [:100]:\n",
    "    for token in nlp(sentence):\n",
    "        if len(token) > 2 and token not in stopwords_:\n",
    "            tokens = token.text.lower()\n",
    "            pos = token.pos_\n",
    "            tokensss.append(tokens + '_' + pos)"
   ]
  },
  {
   "cell_type": "code",
   "execution_count": 57,
   "metadata": {
    "ExecuteTime": {
     "end_time": "2021-02-26T08:34:30.626269Z",
     "start_time": "2021-02-26T08:33:12.056813Z"
    }
   },
   "outputs": [],
   "source": [
    "from gensim.models import Word2Vec\n",
    "from gensim.models.word2vec import FAST_VERSION\n",
    "\n",
    "corpus = [token.split() for token in tokensss]\n",
    "\n",
    "word_corpus = Word2Vec(size = 100, window = 5, hs = 0, sample = 0.000001, negative = 5, min_count = 2, iter = 5000, seed=1)\n",
    "a = word_corpus.build_vocab(corpus)\n",
    "b = word_corpus.train(corpus, total_examples = word_corpus.corpus_count, epochs = word_corpus.epochs)"
   ]
  },
  {
   "cell_type": "markdown",
   "metadata": {},
   "source": [
    "Rerun the `Word2vec` model from above on the new data set and test the words out"
   ]
  },
  {
   "cell_type": "code",
   "execution_count": 58,
   "metadata": {
    "ExecuteTime": {
     "end_time": "2021-02-26T08:34:30.655240Z",
     "start_time": "2021-02-26T08:34:30.629359Z"
    }
   },
   "outputs": [
    {
     "data": {
      "text/plain": [
       "array([-3.4191443e-03,  4.1637928e-03,  4.3452671e-03,  1.1700979e-03,\n",
       "        1.3707120e-03,  2.7096933e-03, -3.4324133e-03,  3.4854752e-06,\n",
       "        2.1465884e-03, -2.4696887e-03,  3.7737912e-03, -1.0300397e-03,\n",
       "       -1.2391248e-03, -4.3925722e-03, -3.4723759e-03,  3.6126757e-03,\n",
       "        1.6699817e-04, -3.2605417e-04, -2.2566060e-03,  4.3591470e-03,\n",
       "        1.3823870e-03,  4.9832854e-03,  4.8945951e-03,  2.9509536e-03,\n",
       "        1.5311125e-03, -2.6039556e-03,  3.9332011e-03, -1.9741247e-03,\n",
       "        4.0204180e-03, -3.3078564e-03,  1.8382658e-03, -3.5563370e-04,\n",
       "       -3.6340037e-03,  1.1658539e-03, -2.0102093e-03,  3.8115149e-03,\n",
       "        3.9107846e-03, -1.7635567e-03,  8.5493142e-04,  3.0304634e-03,\n",
       "       -2.5726398e-03, -1.2015039e-03, -2.8207928e-03,  3.5398314e-03,\n",
       "       -2.2739812e-03,  1.2549283e-03, -4.9413596e-03, -9.1552013e-04,\n",
       "        3.9929487e-03, -4.6744663e-03,  4.4924277e-03, -1.7868644e-03,\n",
       "       -2.6038501e-03, -2.1140843e-03, -5.7162246e-04,  2.8567021e-03,\n",
       "       -1.8614996e-03,  2.8718207e-03, -1.9585334e-03,  2.0238729e-03,\n",
       "       -3.1757362e-03, -2.0009584e-03,  1.1117313e-03, -3.2577966e-03,\n",
       "        3.7447007e-03,  3.2617145e-03, -4.5076902e-03,  4.1866931e-03,\n",
       "        2.4388246e-03,  4.5457943e-03, -8.1747922e-04, -3.2630318e-03,\n",
       "       -1.5328870e-03, -7.7373662e-04, -2.2639961e-03, -2.1340756e-03,\n",
       "        2.5473679e-03,  3.7902442e-04,  2.4748310e-03, -2.3936317e-03,\n",
       "       -1.3125798e-03, -1.9353424e-03, -1.8144400e-03, -8.0395967e-04,\n",
       "        8.3678757e-04, -7.6435664e-04, -2.7500544e-04, -2.7140300e-03,\n",
       "       -2.5829542e-03,  9.2288363e-04, -9.9077588e-04, -2.5190262e-03,\n",
       "       -4.0990850e-03,  4.9406071e-03, -3.5206235e-03, -5.3931255e-04,\n",
       "        4.3633762e-03,  6.4572546e-04,  1.6489386e-03, -1.5912951e-03],\n",
       "      dtype=float32)"
      ]
     },
     "execution_count": 58,
     "metadata": {},
     "output_type": "execute_result"
    }
   ],
   "source": [
    "w_v = word_corpus.wv['have_VERB']\n",
    "\n",
    "m_s = word_corpus.wv.most_similar(['have_VERB'])\n",
    "\n",
    "w_v\n",
    "#word_corpus.wv.most_similar(positive=['', ''], negative=[''], topn=3)"
   ]
  },
  {
   "cell_type": "markdown",
   "metadata": {
    "slideshow": {
     "slide_type": "subslide"
    }
   },
   "source": [
    "## Exercise 2\n",
    "\n",
    "Train 4 more `Word2vec` models and average the resulting embedding matrices."
   ]
  },
  {
   "cell_type": "code",
   "execution_count": 59,
   "metadata": {
    "ExecuteTime": {
     "end_time": "2021-02-26T08:35:46.991586Z",
     "start_time": "2021-02-26T08:34:30.661001Z"
    }
   },
   "outputs": [],
   "source": [
    "corpus_1 = [token.split() for token in tokensss]\n",
    "\n",
    "word_corpus_1 = Word2Vec(size = 100, window = 5, hs = 0, sample = 0.000001, negative = 5, min_count = 2, iter = 5000, seed=2)\n",
    "\n",
    "c = word_corpus_1.build_vocab(corpus_1)\n",
    "d = word_corpus_1.train(corpus_1, total_examples = word_corpus_1.corpus_count, epochs = word_corpus_1.epochs)"
   ]
  },
  {
   "cell_type": "code",
   "execution_count": 60,
   "metadata": {
    "ExecuteTime": {
     "end_time": "2021-02-26T08:35:47.010907Z",
     "start_time": "2021-02-26T08:35:46.995317Z"
    }
   },
   "outputs": [
    {
     "data": {
      "text/plain": [
       "array([-2.4693082e-03, -4.8180851e-03,  1.9066523e-04,  1.8176284e-03,\n",
       "        2.7477841e-03,  4.1055204e-03,  4.3887706e-03,  2.7139205e-03,\n",
       "        4.7745397e-03, -3.7486930e-03,  1.2037463e-03,  2.0861926e-03,\n",
       "        1.1613375e-03,  1.2720687e-03, -2.7213539e-03, -7.6296325e-05,\n",
       "       -1.8362321e-03, -2.3233786e-03,  2.1926444e-03, -4.5521646e-03,\n",
       "        2.7924187e-03,  4.2836270e-03,  1.0516593e-03,  2.7397925e-03,\n",
       "       -2.4725404e-03, -1.6038830e-03, -3.2801577e-03, -1.9809124e-03,\n",
       "       -2.6115908e-03,  3.4528724e-03, -6.7063898e-04, -3.1334576e-03,\n",
       "        1.1137241e-03,  3.0840742e-03,  8.8552578e-04,  3.8744925e-05,\n",
       "        3.2428126e-03,  4.7337404e-03, -4.2621088e-03, -2.9215764e-03,\n",
       "       -2.8982214e-03,  2.2812805e-03,  9.9149346e-04, -4.7208564e-03,\n",
       "       -9.5363247e-04, -3.1040199e-03,  4.4278065e-03,  3.3265410e-03,\n",
       "        2.5690815e-03, -1.2308464e-04,  2.9170122e-03,  2.7125007e-03,\n",
       "       -2.5588043e-03, -4.7134277e-03,  4.7748275e-03,  2.6243818e-03,\n",
       "       -8.6820085e-04, -2.8191479e-03, -1.0814419e-03,  4.2761583e-03,\n",
       "        1.5479022e-03, -5.2311347e-04, -7.4428885e-04, -4.7821975e-03,\n",
       "        2.3822447e-03, -1.8381984e-03,  3.9778366e-03,  2.5319989e-04,\n",
       "        2.4280173e-03, -1.2901612e-03, -2.0239567e-03,  3.1264108e-03,\n",
       "       -1.5212514e-03,  3.7149084e-03,  4.4484236e-03,  4.8210695e-03,\n",
       "       -4.4254330e-03, -8.9763565e-04,  4.9904250e-03, -2.9265967e-03,\n",
       "        3.2630912e-03, -2.0298732e-03, -2.6837799e-05,  4.4773952e-03,\n",
       "        1.6073076e-03, -4.6660961e-03,  1.5580863e-03,  4.5697703e-03,\n",
       "        1.1144754e-03, -1.8248990e-03, -5.4516055e-04,  1.1143992e-03,\n",
       "       -3.1506976e-03, -9.7596116e-04,  3.5885405e-03, -4.4892342e-03,\n",
       "        1.2106908e-03, -4.6208056e-04,  4.5873568e-04,  9.4345206e-04],\n",
       "      dtype=float32)"
      ]
     },
     "execution_count": 60,
     "metadata": {},
     "output_type": "execute_result"
    }
   ],
   "source": [
    "w_v_1 = word_corpus_1.wv['have_VERB']\n",
    "\n",
    "m_s_1 = word_corpus_1.wv.most_similar(['have_VERB'])\n",
    "\n",
    "w_v_1"
   ]
  },
  {
   "cell_type": "code",
   "execution_count": 41,
   "metadata": {
    "ExecuteTime": {
     "end_time": "2021-02-26T08:22:46.564547Z",
     "start_time": "2021-02-26T08:20:45.426027Z"
    }
   },
   "outputs": [],
   "source": [
    "corpus_2 = [token.split() for token in tokensss]\n",
    "\n",
    "word_corpus_2 = Word2Vec(size = 100, window = 5, hs = 0, sample = 0.000001, negative = 5, min_count = 2, iter = 5000, seed=3)\n",
    "\n",
    "e = word_corpus_2.build_vocab(corpus_2)\n",
    "f = word_corpus_2.train(corpus_2, total_examples = word_corpus_2.corpus_count, epochs = word_corpus_2.epochs)"
   ]
  },
  {
   "cell_type": "code",
   "execution_count": 51,
   "metadata": {
    "ExecuteTime": {
     "end_time": "2021-02-26T08:28:07.800093Z",
     "start_time": "2021-02-26T08:28:07.784965Z"
    }
   },
   "outputs": [
    {
     "data": {
      "text/plain": [
       "array([-3.4191443e-03,  4.1637928e-03,  4.3452671e-03,  1.1700979e-03,\n",
       "        1.3707120e-03,  2.7096933e-03, -3.4324133e-03,  3.4854752e-06,\n",
       "        2.1465884e-03, -2.4696887e-03,  3.7737912e-03, -1.0300397e-03,\n",
       "       -1.2391248e-03, -4.3925722e-03, -3.4723759e-03,  3.6126757e-03,\n",
       "        1.6699817e-04, -3.2605417e-04, -2.2566060e-03,  4.3591470e-03,\n",
       "        1.3823870e-03,  4.9832854e-03,  4.8945951e-03,  2.9509536e-03,\n",
       "        1.5311125e-03, -2.6039556e-03,  3.9332011e-03, -1.9741247e-03,\n",
       "        4.0204180e-03, -3.3078564e-03,  1.8382658e-03, -3.5563370e-04,\n",
       "       -3.6340037e-03,  1.1658539e-03, -2.0102093e-03,  3.8115149e-03,\n",
       "        3.9107846e-03, -1.7635567e-03,  8.5493142e-04,  3.0304634e-03,\n",
       "       -2.5726398e-03, -1.2015039e-03, -2.8207928e-03,  3.5398314e-03,\n",
       "       -2.2739812e-03,  1.2549283e-03, -4.9413596e-03, -9.1552013e-04,\n",
       "        3.9929487e-03, -4.6744663e-03,  4.4924277e-03, -1.7868644e-03,\n",
       "       -2.6038501e-03, -2.1140843e-03, -5.7162246e-04,  2.8567021e-03,\n",
       "       -1.8614996e-03,  2.8718207e-03, -1.9585334e-03,  2.0238729e-03,\n",
       "       -3.1757362e-03, -2.0009584e-03,  1.1117313e-03, -3.2577966e-03,\n",
       "        3.7447007e-03,  3.2617145e-03, -4.5076902e-03,  4.1866931e-03,\n",
       "        2.4388246e-03,  4.5457943e-03, -8.1747922e-04, -3.2630318e-03,\n",
       "       -1.5328870e-03, -7.7373662e-04, -2.2639961e-03, -2.1340756e-03,\n",
       "        2.5473679e-03,  3.7902442e-04,  2.4748310e-03, -2.3936317e-03,\n",
       "       -1.3125798e-03, -1.9353424e-03, -1.8144400e-03, -8.0395967e-04,\n",
       "        8.3678757e-04, -7.6435664e-04, -2.7500544e-04, -2.7140300e-03,\n",
       "       -2.5829542e-03,  9.2288363e-04, -9.9077588e-04, -2.5190262e-03,\n",
       "       -4.0990850e-03,  4.9406071e-03, -3.5206235e-03, -5.3931255e-04,\n",
       "        4.3633762e-03,  6.4572546e-04,  1.6489386e-03, -1.5912951e-03],\n",
       "      dtype=float32)"
      ]
     },
     "execution_count": 51,
     "metadata": {},
     "output_type": "execute_result"
    }
   ],
   "source": [
    "w_v_2 = word_corpus.wv['have_VERB']\n",
    "\n",
    "m_s_2 = word_corpus.wv.most_similar(['have_VERB'])\n",
    "\n",
    "w_v_2"
   ]
  },
  {
   "cell_type": "code",
   "execution_count": 43,
   "metadata": {
    "ExecuteTime": {
     "end_time": "2021-02-26T08:24:40.301913Z",
     "start_time": "2021-02-26T08:22:46.595743Z"
    }
   },
   "outputs": [],
   "source": [
    "corpus_3 = [token.split() for token in tokensss]\n",
    "\n",
    "word_corpus_3 = Word2Vec(size = 100, window = 5, hs = 0, sample = 0.000001, negative = 5, min_count = 2, iter = 5000, seed=4)\n",
    "\n",
    "g = word_corpus_3.build_vocab(corpus_3)\n",
    "h = word_corpus_3.train(corpus_3, total_examples = word_corpus_3.corpus_count, epochs = word_corpus_3.epochs)"
   ]
  },
  {
   "cell_type": "code",
   "execution_count": 44,
   "metadata": {
    "ExecuteTime": {
     "end_time": "2021-02-26T08:24:40.320607Z",
     "start_time": "2021-02-26T08:24:40.306171Z"
    }
   },
   "outputs": [
    {
     "data": {
      "text/plain": [
       "[('pretty_ADV', 0.3252318203449249),\n",
       " ('ease_NOUN', 0.2860131561756134),\n",
       " ('internet_NOUN', 0.2735349237918854),\n",
       " ('one_NUM', 0.26674893498420715),\n",
       " ('besides_SCONJ', 0.26259589195251465),\n",
       " ('options_NOUN', 0.2562163770198822),\n",
       " ('postage_NOUN', 0.25461214780807495),\n",
       " ('brand_NOUN', 0.2533974051475525),\n",
       " ('friends_NOUN', 0.25308242440223694),\n",
       " ('site_NOUN', 0.2435791790485382)]"
      ]
     },
     "execution_count": 44,
     "metadata": {},
     "output_type": "execute_result"
    }
   ],
   "source": [
    "w_v_3 = word_corpus.wv['have_VERB']\n",
    "\n",
    "m_s_3 = word_corpus.wv.most_similar(['have_VERB'])\n",
    "\n",
    "m_s_3"
   ]
  },
  {
   "cell_type": "code",
   "execution_count": 45,
   "metadata": {
    "ExecuteTime": {
     "end_time": "2021-02-26T08:26:45.443295Z",
     "start_time": "2021-02-26T08:24:40.327861Z"
    }
   },
   "outputs": [],
   "source": [
    "corpus_4 = [token.split() for token in tokensss]\n",
    "\n",
    "word_corpus_4 = Word2Vec(size = 100, window = 5, hs = 0, sample = 0.000001, negative = 5, min_count = 2, iter = 5000, seed=5)\n",
    "\n",
    "i = word_corpus_4.build_vocab(corpus_4)\n",
    "l = word_corpus_4.train(corpus_4, total_examples = word_corpus_4.corpus_count, epochs = word_corpus_4.epochs)"
   ]
  },
  {
   "cell_type": "code",
   "execution_count": 46,
   "metadata": {
    "ExecuteTime": {
     "end_time": "2021-02-26T08:26:45.462344Z",
     "start_time": "2021-02-26T08:26:45.446786Z"
    }
   },
   "outputs": [
    {
     "data": {
      "text/plain": [
       "[('pretty_ADV', 0.3252318203449249),\n",
       " ('ease_NOUN', 0.2860131561756134),\n",
       " ('internet_NOUN', 0.2735349237918854),\n",
       " ('one_NUM', 0.26674893498420715),\n",
       " ('besides_SCONJ', 0.26259589195251465),\n",
       " ('options_NOUN', 0.2562163770198822),\n",
       " ('postage_NOUN', 0.25461214780807495),\n",
       " ('brand_NOUN', 0.2533974051475525),\n",
       " ('friends_NOUN', 0.25308242440223694),\n",
       " ('site_NOUN', 0.2435791790485382)]"
      ]
     },
     "execution_count": 46,
     "metadata": {},
     "output_type": "execute_result"
    }
   ],
   "source": [
    "w_v_4 = word_corpus.wv['have_VERB']\n",
    "\n",
    "m_s_4 = word_corpus.wv.most_similar(['have_VERB'])\n",
    "\n",
    "m_s_4"
   ]
  },
  {
   "cell_type": "markdown",
   "metadata": {
    "slideshow": {
     "slide_type": "slide"
    }
   },
   "source": [
    "## Document embeddings with `Doc2Vec`"
   ]
  },
  {
   "cell_type": "markdown",
   "metadata": {
    "slideshow": {
     "slide_type": "subslide"
    }
   },
   "source": [
    "## Exercise 3\n",
    "\n",
    "What are the 10 most similar ***words*** to each category?"
   ]
  },
  {
   "cell_type": "code",
   "execution_count": 69,
   "metadata": {
    "ExecuteTime": {
     "end_time": "2021-02-26T08:40:14.091075Z",
     "start_time": "2021-02-26T08:40:11.944301Z"
    }
   },
   "outputs": [],
   "source": [
    "from gensim.models import Doc2Vec\n",
    "from gensim.models.doc2vec import TaggedDocument\n",
    "\n",
    "corpus_n = []\n",
    "\n",
    "for row in df.iterrows():\n",
    "    label = row[1].score\n",
    "    text = row[1].text\n",
    "    corpus_n.append(TaggedDocument(words=text.split(), \n",
    "                                 tags=[str(label)]))\n",
    "\n",
    "d2v_model = Doc2Vec(vector_size=100, window=10, hs=0, sample=0.000001, negative=7, min_count=3, workers=-1, epochs=500, dm=0)\n",
    "\n",
    "d2v_model.build_vocab(corpus_n)\n",
    "\n",
    "d2v_model.train(corpus_n, total_examples=d2v_model.corpus_count, epochs=d2v_model.epochs)\n"
   ]
  },
  {
   "cell_type": "code",
   "execution_count": 76,
   "metadata": {
    "ExecuteTime": {
     "end_time": "2021-02-26T08:47:19.521514Z",
     "start_time": "2021-02-26T08:47:19.510054Z"
    }
   },
   "outputs": [
    {
     "data": {
      "text/plain": [
       "{'5': Doctag(offset=0, word_count=41877, doc_count=802),\n",
       " '4': Doctag(offset=1, word_count=6093, doc_count=111),\n",
       " '1': Doctag(offset=2, word_count=6665, doc_count=48),\n",
       " '2': Doctag(offset=3, word_count=2206, doc_count=17),\n",
       " '3': Doctag(offset=4, word_count=2116, doc_count=22)}"
      ]
     },
     "execution_count": 76,
     "metadata": {},
     "output_type": "execute_result"
    }
   ],
   "source": [
    "d2v_model.docvecs.doctags"
   ]
  },
  {
   "cell_type": "code",
   "execution_count": 77,
   "metadata": {
    "ExecuteTime": {
     "end_time": "2021-02-26T08:47:31.470971Z",
     "start_time": "2021-02-26T08:47:31.458371Z"
    }
   },
   "outputs": [
    {
     "name": "stdout",
     "output_type": "stream",
     "text": [
      "[('5', 0.0786687433719635), ('3', 0.06877458095550537), ('4', 0.05270356684923172), ('1', -0.14946088194847107)]\n"
     ]
    }
   ],
   "source": [
    "target_doc = '2'\n",
    "\n",
    "similar_docs = d2v_model.docvecs.most_similar(target_doc, topn=4)\n",
    "print(similar_docs)"
   ]
  },
  {
   "cell_type": "code",
   "execution_count": null,
   "metadata": {},
   "outputs": [],
   "source": []
  }
 ],
 "metadata": {
  "anaconda-cloud": {},
  "celltoolbar": "Slideshow",
  "kernelspec": {
   "display_name": "Python 3",
   "language": "python",
   "name": "python3"
  },
  "language_info": {
   "codemirror_mode": {
    "name": "ipython",
    "version": 3
   },
   "file_extension": ".py",
   "mimetype": "text/x-python",
   "name": "python",
   "nbconvert_exporter": "python",
   "pygments_lexer": "ipython3",
   "version": "3.8.3"
  },
  "livereveal": {
   "scroll": true,
   "start_slideshow_at": "selected",
   "transition": "none"
  }
 },
 "nbformat": 4,
 "nbformat_minor": 1
}
